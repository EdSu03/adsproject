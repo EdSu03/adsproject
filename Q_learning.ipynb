{
 "cells": [
  {
   "metadata": {
    "ExecuteTime": {
     "end_time": "2025-04-23T12:55:35.474970Z",
     "start_time": "2025-04-23T12:50:20.016945Z"
    }
   },
   "cell_type": "code",
   "source": [
    "# === Generate (s,a,r,s') tuple from real trips ===\n",
    "\n",
    "import pandas as pd\n",
    "import numpy as np\n",
    "\n",
    "# === Step 1: Load taxi trip data from January and February ===\n",
    "df_jan = pd.read_parquet('./cleaned_data/cleaned_yellow_tripdata_2024-01.parquet')\n",
    "df_feb = pd.read_parquet('./cleaned_data/cleaned_yellow_tripdata_2024-02.parquet')\n",
    "\n",
    "# Combine the two months\n",
    "df = pd.concat([df_jan, df_feb], ignore_index=True)\n",
    "\n",
    "# === Step 2: Preprocess: Add time bins ===\n",
    "def get_time_bin_fifteen_minutes(timestamp):\n",
    "    return timestamp.hour * 4 + timestamp.minute // 15  # 15 min bin\n",
    "\n",
    "# Convert Pickup and Dropoff Datetime to time bins\n",
    "df['pickup_time_bin'] = pd.to_datetime(df['PickupDatetime']).apply(get_time_bin_fifteen_minutes)\n",
    "df['dropoff_time_bin'] = pd.to_datetime(df['DropoffDatetime']).apply(get_time_bin_fifteen_minutes)\n",
    "\n",
    "# === Step 3: Build (s, a, r, s') Samples ===\n",
    "samples = []\n",
    "\n",
    "# Group by (pickup_zone, pickup_time_bin)\n",
    "grouped = df.groupby(['PULocationID', 'pickup_time_bin'])\n",
    "\n",
    "num_time_bins = 96\n",
    "\n",
    "for (s_zone, t_bin), group in grouped:\n",
    "    for _, trip in group.iterrows():\n",
    "        try:\n",
    "            # Current state (s_zone, t_bin)\n",
    "            s = (s_zone, t_bin)\n",
    "\n",
    "            # Action: pick this trip → dropoff zone\n",
    "            a_zone = int(trip['DOLocationID'])\n",
    "            fare = float(trip['FareAmount'])\n",
    "\n",
    "            # Next state (dropoff zone, dropoff time bin)\n",
    "            s_prime_zone = a_zone\n",
    "            s_prime_t_bin = int(trip['dropoff_time_bin']) % num_time_bins\n",
    "\n",
    "            # Save this (s, a, r, s') sample\n",
    "            samples.append({\n",
    "                's_zone': s_zone,\n",
    "                't_bin': t_bin,\n",
    "                'a_zone': a_zone,\n",
    "                'reward': fare,\n",
    "                's_prime_zone': s_prime_zone,\n",
    "                's_prime_t_bin': s_prime_t_bin\n",
    "            })\n",
    "\n",
    "        except Exception as e:\n",
    "            continue  # Ignore invalid rows\n",
    "        \n",
    "\n",
    "# === Step 4: Save to CSV ===\n",
    "samples_df = pd.DataFrame(samples)\n",
    "samples_df.to_csv('./data_for_q_learning/q_learning_samples_realistic_2024-01_02.csv', index=False)\n",
    "\n",
    "print(f\"✅ Done! Generated {len(samples_df)} (s, a, r, s') samples and saved to './data_for_q_learning/q_learning_samples_realistic_2024-01.csv'\")"
   ],
   "id": "6d671793f9a5c29",
   "outputs": [
    {
     "name": "stdout",
     "output_type": "stream",
     "text": [
      "✅ Done! Generated 5327667 (s, a, r, s') samples and saved to './data_for_q_learning/q_learning_samples_realistic_2024-01.csv'\n"
     ]
    }
   ],
   "execution_count": 44
  },
  {
   "metadata": {},
   "cell_type": "code",
   "outputs": [
    {
     "name": "stdout",
     "output_type": "stream",
     "text": [
      "✅ Done! Generated 5327667 samples with empty driving penalty and saved to './data_for_q_learning/q_learning_samples_realistic_2024-01_02.csv'\n"
     ]
    }
   ],
   "execution_count": 8,
   "source": [
    "import pandas as pd\n",
    "import numpy as np\n",
    "\n",
    "# === Step 1: Load taxi trip data from January and February ===\n",
    "df_jan = pd.read_parquet('./cleaned_data/cleaned_yellow_tripdata_2024-01.parquet')\n",
    "df_feb = pd.read_parquet('./cleaned_data/cleaned_yellow_tripdata_2024-02.parquet')\n",
    "\n",
    "# Combine the two months\n",
    "df = pd.concat([df_jan, df_feb], ignore_index=True)\n",
    "\n",
    "# === Step 2: Load intra-zone distance matrix ===\n",
    "# This matrix stores average trip distance and duration between zones\n",
    "distance_matrix = np.load('./intra_zone_matrix.npy')  # shape: (266, 266, 4)\n",
    "# matrix[i, j, 2] = mean distance (in miles) from zone i to zone j\n",
    "\n",
    "# === Step 3: Preprocess: Add time bins ===\n",
    "def get_time_bin_fifteen_minutes(timestamp):\n",
    "    return timestamp.hour * 4 + timestamp.minute // 15\n",
    "\n",
    "df['pickup_time_bin'] = pd.to_datetime(df['PickupDatetime']).apply(get_time_bin_fifteen_minutes)\n",
    "df['dropoff_time_bin'] = pd.to_datetime(df['DropoffDatetime']).apply(get_time_bin_fifteen_minutes)\n",
    "\n",
    "# === Step 4: Set constants ===\n",
    "empty_penalty_per_mile = 0.5  # Penalty cost for empty driving per mile\n",
    "num_time_bins = 96\n",
    "\n",
    "# === Step 5: Build (s, a, r, s') samples ===\n",
    "samples = []\n",
    "\n",
    "grouped = df.groupby(['PULocationID', 'pickup_time_bin'])\n",
    "\n",
    "for (s_zone, t_bin), group in grouped:\n",
    "    for _, trip in group.iterrows():\n",
    "        try:\n",
    "            # Current state\n",
    "            a_zone = int(trip['DOLocationID'])\n",
    "            fare = float(trip['FareAmount'])\n",
    "\n",
    "            # Compute empty driving penalty\n",
    "            if 0 <= s_zone < distance_matrix.shape[0] and 0 <= a_zone < distance_matrix.shape[1]:\n",
    "                empty_distance = distance_matrix[s_zone, a_zone, 2]  # mean trip distance (miles)\n",
    "                if np.isnan(empty_distance):\n",
    "                    empty_distance = 1.0  # fallback if no data\n",
    "            else:\n",
    "                empty_distance = 1.0  # fallback if out of bound\n",
    "\n",
    "            empty_penalty = empty_distance * empty_penalty_per_mile\n",
    "\n",
    "            # Final reward = fare - empty driving penalty\n",
    "            reward = fare - empty_penalty\n",
    "\n",
    "            # Next state\n",
    "            s_prime_zone = a_zone\n",
    "            s_prime_t_bin = int(trip['dropoff_time_bin']) % num_time_bins\n",
    "\n",
    "            samples.append({\n",
    "                's_zone': s_zone,\n",
    "                't_bin': t_bin,\n",
    "                'a_zone': a_zone,\n",
    "                'reward': reward,\n",
    "                's_prime_zone': s_prime_zone,\n",
    "                's_prime_t_bin': s_prime_t_bin\n",
    "            })\n",
    "\n",
    "        except Exception as e:\n",
    "            continue\n",
    "\n",
    "# === Step 6: Save samples to CSV ===\n",
    "samples_df = pd.DataFrame(samples)\n",
    "samples_df.to_csv('./data_for_q_learning/q_learning_samples_realistic_2024-01_02.csv', index=False)\n",
    "\n",
    "print(f\"✅ Done! Generated {len(samples_df)} samples with empty driving penalty and saved to './data_for_q_learning/q_learning_samples_realistic_2024-01_02.csv'\")\n"
   ],
   "id": "a2804a2f282377ab"
  },
  {
   "metadata": {
    "ExecuteTime": {
     "end_time": "2025-04-23T12:55:51.568435Z",
     "start_time": "2025-04-23T12:55:49.897523Z"
    }
   },
   "cell_type": "code",
   "source": [
    "import pandas as pd\n",
    "df = pd.read_csv(\"./data_for_q_learning/q_learning_samples_realistic_2024-01_02.csv\")\n",
    "df"
   ],
   "id": "f1248a8352187b5f",
   "outputs": [
    {
     "data": {
      "text/plain": [
       "         s_zone  t_bin  a_zone  reward  s_prime_zone  s_prime_t_bin\n",
       "0             1     14       1    10.0             1             14\n",
       "1             1     21     265    35.9           265             22\n",
       "2             1     21       1    10.7             1             22\n",
       "3             1     24       1    70.0             1             26\n",
       "4             1     58       1     3.7             1             59\n",
       "...         ...    ...     ...     ...           ...            ...\n",
       "5327662     265     95     265    10.0           265             95\n",
       "5327663     265     95     265    60.0           265             95\n",
       "5327664     265     95      68    38.7            68              1\n",
       "5327665     265     95      38    14.9            38             95\n",
       "5327666     265     95     170    70.0           170              0\n",
       "\n",
       "[5327667 rows x 6 columns]"
      ],
      "text/html": [
       "<div>\n",
       "<style scoped>\n",
       "    .dataframe tbody tr th:only-of-type {\n",
       "        vertical-align: middle;\n",
       "    }\n",
       "\n",
       "    .dataframe tbody tr th {\n",
       "        vertical-align: top;\n",
       "    }\n",
       "\n",
       "    .dataframe thead th {\n",
       "        text-align: right;\n",
       "    }\n",
       "</style>\n",
       "<table border=\"1\" class=\"dataframe\">\n",
       "  <thead>\n",
       "    <tr style=\"text-align: right;\">\n",
       "      <th></th>\n",
       "      <th>s_zone</th>\n",
       "      <th>t_bin</th>\n",
       "      <th>a_zone</th>\n",
       "      <th>reward</th>\n",
       "      <th>s_prime_zone</th>\n",
       "      <th>s_prime_t_bin</th>\n",
       "    </tr>\n",
       "  </thead>\n",
       "  <tbody>\n",
       "    <tr>\n",
       "      <th>0</th>\n",
       "      <td>1</td>\n",
       "      <td>14</td>\n",
       "      <td>1</td>\n",
       "      <td>10.0</td>\n",
       "      <td>1</td>\n",
       "      <td>14</td>\n",
       "    </tr>\n",
       "    <tr>\n",
       "      <th>1</th>\n",
       "      <td>1</td>\n",
       "      <td>21</td>\n",
       "      <td>265</td>\n",
       "      <td>35.9</td>\n",
       "      <td>265</td>\n",
       "      <td>22</td>\n",
       "    </tr>\n",
       "    <tr>\n",
       "      <th>2</th>\n",
       "      <td>1</td>\n",
       "      <td>21</td>\n",
       "      <td>1</td>\n",
       "      <td>10.7</td>\n",
       "      <td>1</td>\n",
       "      <td>22</td>\n",
       "    </tr>\n",
       "    <tr>\n",
       "      <th>3</th>\n",
       "      <td>1</td>\n",
       "      <td>24</td>\n",
       "      <td>1</td>\n",
       "      <td>70.0</td>\n",
       "      <td>1</td>\n",
       "      <td>26</td>\n",
       "    </tr>\n",
       "    <tr>\n",
       "      <th>4</th>\n",
       "      <td>1</td>\n",
       "      <td>58</td>\n",
       "      <td>1</td>\n",
       "      <td>3.7</td>\n",
       "      <td>1</td>\n",
       "      <td>59</td>\n",
       "    </tr>\n",
       "    <tr>\n",
       "      <th>...</th>\n",
       "      <td>...</td>\n",
       "      <td>...</td>\n",
       "      <td>...</td>\n",
       "      <td>...</td>\n",
       "      <td>...</td>\n",
       "      <td>...</td>\n",
       "    </tr>\n",
       "    <tr>\n",
       "      <th>5327662</th>\n",
       "      <td>265</td>\n",
       "      <td>95</td>\n",
       "      <td>265</td>\n",
       "      <td>10.0</td>\n",
       "      <td>265</td>\n",
       "      <td>95</td>\n",
       "    </tr>\n",
       "    <tr>\n",
       "      <th>5327663</th>\n",
       "      <td>265</td>\n",
       "      <td>95</td>\n",
       "      <td>265</td>\n",
       "      <td>60.0</td>\n",
       "      <td>265</td>\n",
       "      <td>95</td>\n",
       "    </tr>\n",
       "    <tr>\n",
       "      <th>5327664</th>\n",
       "      <td>265</td>\n",
       "      <td>95</td>\n",
       "      <td>68</td>\n",
       "      <td>38.7</td>\n",
       "      <td>68</td>\n",
       "      <td>1</td>\n",
       "    </tr>\n",
       "    <tr>\n",
       "      <th>5327665</th>\n",
       "      <td>265</td>\n",
       "      <td>95</td>\n",
       "      <td>38</td>\n",
       "      <td>14.9</td>\n",
       "      <td>38</td>\n",
       "      <td>95</td>\n",
       "    </tr>\n",
       "    <tr>\n",
       "      <th>5327666</th>\n",
       "      <td>265</td>\n",
       "      <td>95</td>\n",
       "      <td>170</td>\n",
       "      <td>70.0</td>\n",
       "      <td>170</td>\n",
       "      <td>0</td>\n",
       "    </tr>\n",
       "  </tbody>\n",
       "</table>\n",
       "<p>5327667 rows × 6 columns</p>\n",
       "</div>"
      ]
     },
     "execution_count": 45,
     "metadata": {},
     "output_type": "execute_result"
    }
   ],
   "execution_count": 45
  },
  {
   "metadata": {
    "ExecuteTime": {
     "end_time": "2025-04-23T20:52:32.977460Z",
     "start_time": "2025-04-23T16:15:28.557769Z"
    }
   },
   "cell_type": "code",
   "source": [
    "# === Training Q-learning ===\n",
    "import pandas as pd\n",
    "import torch\n",
    "import torch.nn as nn\n",
    "import torch.optim as optim\n",
    "from torch.utils.data import Dataset, DataLoader\n",
    "import numpy as np\n",
    "from tqdm import tqdm\n",
    "import os\n",
    "\n",
    "# === Step 1: Load the new (s, a, r, s') samples ===\n",
    "num_time_bins = 96  # 15min\n",
    "samples_path = 'data_for_q_learning/q_learning_samples_realistic_2024-01_02.csv'\n",
    "df = pd.read_csv(samples_path)\n",
    "\n",
    "# Encode all zone IDs into continuous integer IDs\n",
    "all_zone_ids = pd.unique(df[['s_zone', 'a_zone', 's_prime_zone']].values.ravel())\n",
    "zone_id_map = {z: i for i, z in enumerate(sorted(all_zone_ids))}\n",
    "num_zones = len(zone_id_map)\n",
    "\n",
    "# Map original zone IDs to 0,1,2,3,... for embedding\n",
    "df['s_zone'] = df['s_zone'].map(zone_id_map)\n",
    "df['a_zone'] = df['a_zone'].map(zone_id_map)\n",
    "df['s_prime_zone'] = df['s_prime_zone'].map(zone_id_map)\n",
    "\n",
    "# === Step 2: Define PyTorch Dataset ===\n",
    "class QLearningDataset(Dataset):\n",
    "    def __init__(self, df):\n",
    "        self.s_zone = torch.tensor(df['s_zone'].values, dtype=torch.long)\n",
    "        self.t_bin = torch.tensor(df['t_bin'].values, dtype=torch.long)\n",
    "        self.a_zone = torch.tensor(df['a_zone'].values, dtype=torch.long)\n",
    "        self.reward = torch.tensor(df['reward'].values, dtype=torch.float32)\n",
    "        self.s_prime_zone = torch.tensor(df['s_prime_zone'].values, dtype=torch.long)\n",
    "        self.s_prime_t_bin = torch.tensor(df['s_prime_t_bin'].values, dtype=torch.long)\n",
    "\n",
    "    def __len__(self):\n",
    "        return len(self.s_zone)\n",
    "\n",
    "    def __getitem__(self, idx):\n",
    "        return (self.s_zone[idx], self.t_bin[idx], self.a_zone[idx],\n",
    "                self.reward[idx], self.s_prime_zone[idx], self.s_prime_t_bin[idx])\n",
    "\n",
    "dataset = QLearningDataset(df)\n",
    "# dataloader = DataLoader(dataset, batch_size=4096, shuffle=True, num_workers=4)\n",
    "dataloader = DataLoader(dataset, batch_size=2048, shuffle=True, num_workers=0)\n",
    "\n",
    "\n",
    "# === Step 3: Define Q-network ===\n",
    "class QNetwork(nn.Module):\n",
    "    def __init__(self, num_zones, num_time_bins, embed_dim=16):\n",
    "        super().__init__()\n",
    "        self.zone_embed = nn.Embedding(num_zones, embed_dim)\n",
    "        self.time_embed = nn.Embedding(num_time_bins, embed_dim)\n",
    "        self.net = nn.Sequential(\n",
    "            nn.Linear(embed_dim * 3, 128),\n",
    "            nn.ReLU(),\n",
    "            nn.Linear(128, 1)\n",
    "        )\n",
    "\n",
    "    def forward(self, s_zone, t_bin, a_zone):\n",
    "        s_embed = self.zone_embed(s_zone)\n",
    "        t_embed = self.time_embed(t_bin)\n",
    "        a_embed = self.zone_embed(a_zone)\n",
    "        x = torch.cat([s_embed, t_embed, a_embed], dim=1)\n",
    "        return self.net(x).squeeze(1)\n",
    "\n",
    "# Instantiate models\n",
    "q_net = QNetwork(num_zones, num_time_bins)\n",
    "target_q_net = QNetwork(num_zones, num_time_bins)\n",
    "target_q_net.load_state_dict(q_net.state_dict())\n",
    "\n",
    "# === Step 4: Setup training components ===\n",
    "optimizer = optim.Adam(q_net.parameters(), lr=1e-3)\n",
    "loss_fn = nn.MSELoss()\n",
    "gamma = 0.97\n",
    "\n",
    "# === Step 5: Training loop ===\n",
    "epochs = 20\n",
    "epoch_losses = []\n",
    "tau = 0.005  # Soft update coefficient\n",
    "\n",
    "os.makedirs(\"./Q_learning\", exist_ok=True)\n",
    "\n",
    "for epoch in range(epochs):\n",
    "    q_net.train()\n",
    "    total_loss = 0\n",
    "    tqdm_bar = tqdm(dataloader, desc=f\"Epoch {epoch+1}\")\n",
    "\n",
    "    for s, t, a, r, s_p, t_p in tqdm_bar:\n",
    "        with torch.no_grad():\n",
    "            a_prime = torch.arange(num_zones).repeat(len(s_p), 1).to(torch.long)\n",
    "            s_prime_rep = s_p.unsqueeze(1).repeat(1, num_zones).flatten()\n",
    "            t_prime_rep = t_p.unsqueeze(1).repeat(1, num_zones).flatten()\n",
    "            a_prime_flat = a_prime.flatten()\n",
    "\n",
    "            q_values = target_q_net(s_prime_rep, t_prime_rep, a_prime_flat)\n",
    "            q_values = q_values.view(len(s_p), num_zones)\n",
    "            max_q = q_values.max(dim=1)[0]\n",
    "\n",
    "        target = r + gamma * max_q\n",
    "        pred_q = q_net(s, t, a)\n",
    "        loss = loss_fn(pred_q, target)\n",
    "\n",
    "        optimizer.zero_grad()\n",
    "        loss.backward()\n",
    "        optimizer.step()\n",
    "        total_loss += loss.item()\n",
    "        tqdm_bar.set_postfix(batch_loss=loss.item())\n",
    "\n",
    "        # === Soft update target network ===\n",
    "        with torch.no_grad():\n",
    "            for target_param, param in zip(target_q_net.parameters(), q_net.parameters()):\n",
    "                target_param.data.copy_(tau * param.data + (1.0 - tau) * target_param.data)\n",
    "\n",
    "    epoch_losses.append(total_loss)\n",
    "    print(f\"Epoch {epoch+1}, Loss: {total_loss:.4f}\")\n",
    "\n",
    "# === Step 6: Save model and loss ===\n",
    "torch.save(q_net.state_dict(), f\"./Q_learning/q_network_realistic_{epochs}_epochs_more_sample.pt\")\n",
    "pd.DataFrame({'epoch': list(range(1, len(epoch_losses)+1)), 'loss': epoch_losses})\\\n",
    "  .to_csv(f\"./Q_learning/q_training_loss_realistic_{epochs}_epochs.csv\", index=False)\n",
    "\n",
    "print(f\"✅ Training finished. Model and loss history saved.\")\n"
   ],
   "id": "9dd7fd560b3b5011",
   "outputs": [
    {
     "name": "stderr",
     "output_type": "stream",
     "text": [
      "Epoch 1: 100%|██████████| 2602/2602 [12:44<00:00,  3.40it/s, batch_loss=66.2]\n"
     ]
    },
    {
     "name": "stdout",
     "output_type": "stream",
     "text": [
      "Epoch 1, Loss: 220927.5445\n"
     ]
    },
    {
     "name": "stderr",
     "output_type": "stream",
     "text": [
      "Epoch 2: 100%|██████████| 2602/2602 [13:03<00:00,  3.32it/s, batch_loss=32.2]\n"
     ]
    },
    {
     "name": "stdout",
     "output_type": "stream",
     "text": [
      "Epoch 2, Loss: 125904.1489\n"
     ]
    },
    {
     "name": "stderr",
     "output_type": "stream",
     "text": [
      "Epoch 3: 100%|██████████| 2602/2602 [13:57<00:00,  3.11it/s, batch_loss=34.9]\n"
     ]
    },
    {
     "name": "stdout",
     "output_type": "stream",
     "text": [
      "Epoch 3, Loss: 107172.4166\n"
     ]
    },
    {
     "name": "stderr",
     "output_type": "stream",
     "text": [
      "Epoch 4: 100%|██████████| 2602/2602 [13:18<00:00,  3.26it/s, batch_loss=36.1]\n"
     ]
    },
    {
     "name": "stdout",
     "output_type": "stream",
     "text": [
      "Epoch 4, Loss: 97418.6274\n"
     ]
    },
    {
     "name": "stderr",
     "output_type": "stream",
     "text": [
      "Epoch 5: 100%|██████████| 2602/2602 [13:02<00:00,  3.32it/s, batch_loss=32.4]\n"
     ]
    },
    {
     "name": "stdout",
     "output_type": "stream",
     "text": [
      "Epoch 5, Loss: 91580.0953\n"
     ]
    },
    {
     "name": "stderr",
     "output_type": "stream",
     "text": [
      "Epoch 6: 100%|██████████| 2602/2602 [14:05<00:00,  3.08it/s, batch_loss=30.8]\n"
     ]
    },
    {
     "name": "stdout",
     "output_type": "stream",
     "text": [
      "Epoch 6, Loss: 88030.3496\n"
     ]
    },
    {
     "name": "stderr",
     "output_type": "stream",
     "text": [
      "Epoch 7: 100%|██████████| 2602/2602 [14:46<00:00,  2.94it/s, batch_loss=30.4]\n"
     ]
    },
    {
     "name": "stdout",
     "output_type": "stream",
     "text": [
      "Epoch 7, Loss: 85014.8866\n"
     ]
    },
    {
     "name": "stderr",
     "output_type": "stream",
     "text": [
      "Epoch 8: 100%|██████████| 2602/2602 [14:55<00:00,  2.91it/s, batch_loss=32.3]\n"
     ]
    },
    {
     "name": "stdout",
     "output_type": "stream",
     "text": [
      "Epoch 8, Loss: 82030.7912\n"
     ]
    },
    {
     "name": "stderr",
     "output_type": "stream",
     "text": [
      "Epoch 9: 100%|██████████| 2602/2602 [14:34<00:00,  2.97it/s, batch_loss=29.7]\n"
     ]
    },
    {
     "name": "stdout",
     "output_type": "stream",
     "text": [
      "Epoch 9, Loss: 80158.1069\n"
     ]
    },
    {
     "name": "stderr",
     "output_type": "stream",
     "text": [
      "Epoch 10: 100%|██████████| 2602/2602 [14:44<00:00,  2.94it/s, batch_loss=29.5]\n"
     ]
    },
    {
     "name": "stdout",
     "output_type": "stream",
     "text": [
      "Epoch 10, Loss: 77519.0034\n"
     ]
    },
    {
     "name": "stderr",
     "output_type": "stream",
     "text": [
      "Epoch 11: 100%|██████████| 2602/2602 [13:42<00:00,  3.16it/s, batch_loss=22.9]\n"
     ]
    },
    {
     "name": "stdout",
     "output_type": "stream",
     "text": [
      "Epoch 11, Loss: 75473.6253\n"
     ]
    },
    {
     "name": "stderr",
     "output_type": "stream",
     "text": [
      "Epoch 12: 100%|██████████| 2602/2602 [13:03<00:00,  3.32it/s, batch_loss=30.8]\n"
     ]
    },
    {
     "name": "stdout",
     "output_type": "stream",
     "text": [
      "Epoch 12, Loss: 73848.3362\n"
     ]
    },
    {
     "name": "stderr",
     "output_type": "stream",
     "text": [
      "Epoch 13: 100%|██████████| 2602/2602 [13:50<00:00,  3.13it/s, batch_loss=28.6]\n"
     ]
    },
    {
     "name": "stdout",
     "output_type": "stream",
     "text": [
      "Epoch 13, Loss: 72295.3953\n"
     ]
    },
    {
     "name": "stderr",
     "output_type": "stream",
     "text": [
      "Epoch 14: 100%|██████████| 2602/2602 [12:46<00:00,  3.39it/s, batch_loss=30.1]\n"
     ]
    },
    {
     "name": "stdout",
     "output_type": "stream",
     "text": [
      "Epoch 14, Loss: 72080.7635\n"
     ]
    },
    {
     "name": "stderr",
     "output_type": "stream",
     "text": [
      "Epoch 15: 100%|██████████| 2602/2602 [14:20<00:00,  3.02it/s, batch_loss=27.6]\n"
     ]
    },
    {
     "name": "stdout",
     "output_type": "stream",
     "text": [
      "Epoch 15, Loss: 70598.9516\n"
     ]
    },
    {
     "name": "stderr",
     "output_type": "stream",
     "text": [
      "Epoch 16: 100%|██████████| 2602/2602 [14:35<00:00,  2.97it/s, batch_loss=29.2]\n"
     ]
    },
    {
     "name": "stdout",
     "output_type": "stream",
     "text": [
      "Epoch 16, Loss: 70120.2385\n"
     ]
    },
    {
     "name": "stderr",
     "output_type": "stream",
     "text": [
      "Epoch 17: 100%|██████████| 2602/2602 [14:28<00:00,  3.00it/s, batch_loss=27.7]\n"
     ]
    },
    {
     "name": "stdout",
     "output_type": "stream",
     "text": [
      "Epoch 17, Loss: 69132.8777\n"
     ]
    },
    {
     "name": "stderr",
     "output_type": "stream",
     "text": [
      "Epoch 18: 100%|██████████| 2602/2602 [14:20<00:00,  3.02it/s, batch_loss=29.2]\n"
     ]
    },
    {
     "name": "stdout",
     "output_type": "stream",
     "text": [
      "Epoch 18, Loss: 68413.2331\n"
     ]
    },
    {
     "name": "stderr",
     "output_type": "stream",
     "text": [
      "Epoch 19: 100%|██████████| 2602/2602 [13:21<00:00,  3.25it/s, batch_loss=29.2]\n"
     ]
    },
    {
     "name": "stdout",
     "output_type": "stream",
     "text": [
      "Epoch 19, Loss: 67186.7680\n"
     ]
    },
    {
     "name": "stderr",
     "output_type": "stream",
     "text": [
      "Epoch 20: 100%|██████████| 2602/2602 [13:12<00:00,  3.29it/s, batch_loss=24.1]"
     ]
    },
    {
     "name": "stdout",
     "output_type": "stream",
     "text": [
      "Epoch 20, Loss: 67293.0302\n",
      "✅ Training finished. Model and loss history saved.\n"
     ]
    },
    {
     "name": "stderr",
     "output_type": "stream",
     "text": [
      "\n"
     ]
    }
   ],
   "execution_count": 1
  },
  {
   "metadata": {
    "ExecuteTime": {
     "end_time": "2025-04-24T04:01:19.179860Z",
     "start_time": "2025-04-24T04:01:19.055518Z"
    }
   },
   "cell_type": "code",
   "source": [
    "import pandas as pd\n",
    "import matplotlib.pyplot as plt\n",
    "\n",
    "df = pd.read_csv(\"Q_learning/q_training_loss_realistic_20_epochs.csv\")\n",
    "\n",
    "# Plot the training loss\n",
    "plt.figure(figsize=(8, 5))\n",
    "plt.plot(df['epoch'], df['loss'], marker='o')\n",
    "plt.xlabel('Epoch')\n",
    "plt.ylabel('Loss')\n",
    "plt.title('Training Loss over Epochs')\n",
    "plt.grid(True)\n",
    "plt.show()"
   ],
   "id": "2eeae3ff75835c6b",
   "outputs": [
    {
     "data": {
      "text/plain": [
       "<Figure size 800x500 with 1 Axes>"
      ],
      "image/png": "[encoded data removed]"
     },
     "metadata": {},
     "output_type": "display_data"
    }
   ],
   "execution_count": 3
  },
  {
   "metadata": {
    "ExecuteTime": {
     "end_time": "2025-04-23T09:51:11.289971Z",
     "start_time": "2025-04-23T09:51:04.103574Z"
    }
   },
   "cell_type": "code",
   "source": [
    "import torch\n",
    "import numpy as np\n",
    "import pandas as pd\n",
    "from q_network import QNetwork\n",
    "import json\n",
    "\n",
    "# === Load Q-network ===\n",
    "q_net = QNetwork(num_zones=259, num_time_bins=96)\n",
    "q_net.load_state_dict(torch.load('Q_learning/q_network_realistic_20_epochs_v5.pt'))\n",
    "q_net.eval()\n",
    "\n",
    "# === Load zone mappings and neighbor_dict ===\n",
    "# === Load (s, a, r, s') dataset to rebuild zone_id_map ===\n",
    "samples_df = pd.read_csv('./data_for_q_learning/q_learning_samples_realistic_2024-01.csv')\n",
    "\n",
    "all_zone_ids = pd.unique(samples_df[['s_zone', 'a_zone', 's_prime_zone']].values.ravel())\n",
    "zone_id_map = {z: i for i, z in enumerate(sorted(all_zone_ids))}\n",
    "inv_zone_map = {i: z for z, i in zone_id_map.items()}\n",
    "with open('./neighbor_dict_10.json', 'r') as f:\n",
    "    neighbor_dict = json.load(f)\n",
    "neighbor_dict = {int(k): v for k, v in neighbor_dict.items()}\n",
    "\n",
    "device = 'cpu'\n",
    "num_time_bins = 96\n",
    "\n",
    "# === Prepare empty list to collect data ===\n",
    "records = []\n",
    "\n",
    "# === Full grid loop ===\n",
    "for s_zone in zone_id_map.keys():\n",
    "    for t_bin in range(num_time_bins):\n",
    "        candidates = neighbor_dict.get(s_zone, [s_zone])\n",
    "        candidates = [a for a in candidates if a in zone_id_map]\n",
    "\n",
    "        if not candidates:\n",
    "            continue\n",
    "\n",
    "        s_tensor = torch.tensor([zone_id_map[s_zone]] * len(candidates), dtype=torch.long).to(device)\n",
    "        t_tensor = torch.tensor([t_bin] * len(candidates), dtype=torch.long).to(device)\n",
    "        a_tensor = torch.tensor([zone_id_map[a] for a in candidates], dtype=torch.long).to(device)\n",
    "\n",
    "        with torch.no_grad():\n",
    "            q_values = q_net(s_tensor, t_tensor, a_tensor)\n",
    "\n",
    "        for idx, a_zone in enumerate(candidates):\n",
    "            records.append({\n",
    "                's_zone': s_zone,\n",
    "                't_bin': t_bin,\n",
    "                'a_zone': a_zone,\n",
    "                'q_value': q_values[idx].item()\n",
    "            })\n",
    "\n",
    "# === Save all Q(s,a) to CSV ===\n",
    "q_table_df = pd.DataFrame(records)\n",
    "q_table_df.to_csv('./data_for_q_learning/full_q_table.csv', index=False)\n",
    "\n",
    "print(f\"✅ Full Q-table saved! {len(records)} (s,a) pairs written to 'full_q_table.csv'\")\n"
   ],
   "id": "96af9cb6a0bcc790",
   "outputs": [
    {
     "name": "stderr",
     "output_type": "stream",
     "text": [
      "C:\\Users\\xiqiz\\AppData\\Local\\Temp\\ipykernel_9936\\3275644699.py:9: FutureWarning: You are using `torch.load` with `weights_only=False` (the current default value), which uses the default pickle module implicitly. It is possible to construct malicious pickle data which will execute arbitrary code during unpickling (See https://github.com/pytorch/pytorch/blob/main/SECURITY.md#untrusted-models for more details). In a future release, the default value for `weights_only` will be flipped to `True`. This limits the functions that could be executed during unpickling. Arbitrary objects will no longer be allowed to be loaded via this mode unless they are explicitly allowlisted by the user via `torch.serialization.add_safe_globals`. We recommend you start setting `weights_only=True` for any use case where you don't have full control of the loaded file. Please open an issue on GitHub for any issues related to this experimental feature.\n",
      "  q_net.load_state_dict(torch.load('Q_learning/q_network_realistic_20_epochs_v5.pt'))\n"
     ]
    },
    {
     "name": "stdout",
     "output_type": "stream",
     "text": [
      "✅ Full Q-table saved! 272352 (s,a) pairs written to 'full_q_table.csv'\n"
     ]
    }
   ],
   "execution_count": 11
  },
  {
   "metadata": {
    "ExecuteTime": {
     "end_time": "2025-04-23T12:13:05.311921Z",
     "start_time": "2025-04-23T12:13:05.303708Z"
    }
   },
   "cell_type": "code",
   "source": [
    "import pandas as pd\n",
    "import pickle\n",
    "\n",
    "# === Load rollout_results.pkl ===\n",
    "with open('./rollout/rollout_results.pkl', 'rb') as f:\n",
    "    results = pickle.load(f)\n",
    "\n",
    "# === Convert to DataFrame ===\n",
    "df_results = pd.DataFrame(results)\n",
    "\n",
    "# === Show or save ===\n",
    "print(df_results)  # print first 5 rows\n",
    "# df_results.to_csv('rollout_results.csv', index=False)\n"
   ],
   "id": "b1d266db30afea69",
   "outputs": [
    {
     "name": "stdout",
     "output_type": "stream",
     "text": [
      "     q_learning      random    stay\n",
      "0    101.090686   93.666211  306.35\n",
      "1    231.927930  121.582422  176.10\n",
      "2    238.121997   72.052148  246.00\n",
      "3    191.585596   88.886914  424.20\n",
      "4     61.160156   90.946484  324.41\n",
      "..          ...         ...     ...\n",
      "254  187.841736  109.548828  350.50\n",
      "255  190.606348   73.242188  358.30\n",
      "256   89.626074  140.084668  328.90\n",
      "257   83.205252   85.450000  339.00\n",
      "258  210.669727  168.942871  353.90\n",
      "\n",
      "[259 rows x 3 columns]\n"
     ]
    }
   ],
   "execution_count": 42
  },
  {
   "metadata": {
    "ExecuteTime": {
     "end_time": "2025-04-23T12:13:05.535980Z",
     "start_time": "2025-04-23T12:13:05.445689Z"
    }
   },
   "cell_type": "code",
   "source": [
    "import numpy as np\n",
    "means = [df[col].mean() for col in ['stay', 'q_learning', 'random']]\n",
    "stds = [df[col].std() for col in ['stay', 'q_learning', 'random']]\n",
    "\n",
    "plt.bar(['Stay', 'Q-learning', 'Random'], means, yerr=stds, capsize=5)\n"
   ],
   "id": "50cd2f178ca680f3",
   "outputs": [
    {
     "data": {
      "text/plain": [
       "<BarContainer object of 3 artists>"
      ]
     },
     "execution_count": 43,
     "metadata": {},
     "output_type": "execute_result"
    },
    {
     "data": {
      "text/plain": [
       "<Figure size 640x480 with 1 Axes>"
      ],
      "image/png": "[encoded data removed]"
     },
     "metadata": {},
     "output_type": "display_data"
    }
   ],
   "execution_count": 43
  },
  {
   "metadata": {},
   "cell_type": "code",
   "outputs": [],
   "execution_count": null,
   "source": "",
   "id": "e496f373e8c3c78a"
  }
 ],
 "metadata": {
  "kernelspec": {
   "display_name": "Python 3",
   "language": "python",
   "name": "python3"
  },
  "language_info": {
   "codemirror_mode": {
    "name": "ipython",
    "version": 2
   },
   "file_extension": ".py",
   "mimetype": "text/x-python",
   "name": "python",
   "nbconvert_exporter": "python",
   "pygments_lexer": "ipython2",
   "version": "2.7.6"
  }
 },
 "nbformat": 4,
 "nbformat_minor": 5
}
