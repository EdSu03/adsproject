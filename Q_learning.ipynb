{
 "cells": [
  {
   "metadata": {
    "ExecuteTime": {
     "end_time": "2025-04-17T10:25:29.097683Z",
     "start_time": "2025-04-17T10:23:04.350058Z"
    }
   },
   "cell_type": "code",
   "source": [
    "# === Generate (s,a,r,s') tuple from real trips ===\n",
    "\n",
    "import pandas as pd\n",
    "import numpy as np\n",
    "\n",
    "# === Step 1: Load Parquet taxi trip data ===\n",
    "df = pd.read_parquet('./cleaned_data/cleaned_yellow_tripdata_2024-01.parquet')\n",
    "\n",
    "# === Step 2: Preprocess: Add time bins ===\n",
    "def get_time_bin_fifteen_minutes(timestamp):\n",
    "    return timestamp.hour * 4 + timestamp.minute // 15  # 15 min bin\n",
    "\n",
    "# Convert Pickup and Dropoff Datetime to time bins\n",
    "df['pickup_time_bin'] = pd.to_datetime(df['PickupDatetime']).apply(get_time_bin_fifteen_minutes)\n",
    "df['dropoff_time_bin'] = pd.to_datetime(df['DropoffDatetime']).apply(get_time_bin_fifteen_minutes)\n",
    "\n",
    "# === Step 3: Build (s, a, r, s') Samples ===\n",
    "samples = []\n",
    "\n",
    "# Group by (pickup_zone, pickup_time_bin)\n",
    "grouped = df.groupby(['PULocationID', 'pickup_time_bin'])\n",
    "\n",
    "num_time_bins = 96\n",
    "\n",
    "for (s_zone, t_bin), group in grouped:\n",
    "    for _, trip in group.iterrows():\n",
    "        try:\n",
    "            # Current state (s_zone, t_bin)\n",
    "            s = (s_zone, t_bin)\n",
    "\n",
    "            # Action: pick this trip → dropoff zone\n",
    "            a_zone = int(trip['DOLocationID'])\n",
    "            fare = float(trip['FareAmount'])\n",
    "\n",
    "            # Next state (dropoff zone, dropoff time bin)\n",
    "            s_prime_zone = a_zone\n",
    "            s_prime_t_bin = int(trip['dropoff_time_bin']) % num_time_bins\n",
    "\n",
    "            # Save this (s, a, r, s') sample\n",
    "            samples.append({\n",
    "                's_zone': s_zone,\n",
    "                't_bin': t_bin,\n",
    "                'a_zone': a_zone,\n",
    "                'reward': fare,\n",
    "                's_prime_zone': s_prime_zone,\n",
    "                's_prime_t_bin': s_prime_t_bin\n",
    "            })\n",
    "\n",
    "        except Exception as e:\n",
    "            continue  # Ignore invalid rows\n",
    "            \n",
    "    try:\n",
    "        samples.append({\n",
    "            's_zone': s_zone,\n",
    "            't_bin': t_bin,\n",
    "            'a_zone': s_zone,  # stay\n",
    "            'reward': -1.0,    # small negative reward for wasting time\n",
    "            's_prime_zone': s_zone,\n",
    "            's_prime_t_bin': (t_bin + 1) % num_time_bins\n",
    "        })\n",
    "    except Exception as e:\n",
    "        continue\n",
    "\n",
    "# === Step 4: Save to CSV ===\n",
    "samples_df = pd.DataFrame(samples)\n",
    "samples_df.to_csv('./data_for_q_learning/q_learning_samples_realistic_2024-01.csv', index=False)\n",
    "\n",
    "print(f\"✅ Done! Generated {len(samples_df)} (s, a, r, s') samples and saved to './data_for_q_learning/q_learning_samples_realistic_2024-01.csv'\")\n"
   ],
   "id": "89facc7632cd4852",
   "outputs": [
    {
     "name": "stdout",
     "output_type": "stream",
     "text": [
      "✅ Done! Generated 2681285 (s, a, r, s') samples and saved to './data_for_q_learning/q_learning_samples_realistic_2024-01.csv'\n"
     ]
    }
   ],
   "execution_count": 1
  },
  {
   "metadata": {
    "ExecuteTime": {
     "end_time": "2025-04-19T10:22:43.861313Z",
     "start_time": "2025-04-19T10:22:42.319432Z"
    }
   },
   "cell_type": "code",
   "source": [
    "import pandas as pd\n",
    "df = pd.read_csv(\"./data_for_q_learning/q_learning_samples_realistic_2024-01.csv\")\n",
    "df"
   ],
   "id": "f1248a8352187b5f",
   "outputs": [
    {
     "data": {
      "text/plain": [
       "         s_zone  t_bin  a_zone  reward  s_prime_zone  s_prime_t_bin\n",
       "0             1     21     265    35.9           265             22\n",
       "1             1     21       1    -1.0             1             22\n",
       "2             1     24       1    70.0             1             26\n",
       "3             1     24       1    -1.0             1             25\n",
       "4             1     59     265    35.9           265             60\n",
       "...         ...    ...     ...     ...           ...            ...\n",
       "2681280     265     94     265    -1.0           265             95\n",
       "2681281     265     95     265    10.0           265             95\n",
       "2681282     265     95     265    60.0           265             95\n",
       "2681283     265     95      68    38.7            68              1\n",
       "2681284     265     95     265    -1.0           265              0\n",
       "\n",
       "[2681285 rows x 6 columns]"
      ],
      "text/html": [
       "<div>\n",
       "<style scoped>\n",
       "    .dataframe tbody tr th:only-of-type {\n",
       "        vertical-align: middle;\n",
       "    }\n",
       "\n",
       "    .dataframe tbody tr th {\n",
       "        vertical-align: top;\n",
       "    }\n",
       "\n",
       "    .dataframe thead th {\n",
       "        text-align: right;\n",
       "    }\n",
       "</style>\n",
       "<table border=\"1\" class=\"dataframe\">\n",
       "  <thead>\n",
       "    <tr style=\"text-align: right;\">\n",
       "      <th></th>\n",
       "      <th>s_zone</th>\n",
       "      <th>t_bin</th>\n",
       "      <th>a_zone</th>\n",
       "      <th>reward</th>\n",
       "      <th>s_prime_zone</th>\n",
       "      <th>s_prime_t_bin</th>\n",
       "    </tr>\n",
       "  </thead>\n",
       "  <tbody>\n",
       "    <tr>\n",
       "      <th>0</th>\n",
       "      <td>1</td>\n",
       "      <td>21</td>\n",
       "      <td>265</td>\n",
       "      <td>35.9</td>\n",
       "      <td>265</td>\n",
       "      <td>22</td>\n",
       "    </tr>\n",
       "    <tr>\n",
       "      <th>1</th>\n",
       "      <td>1</td>\n",
       "      <td>21</td>\n",
       "      <td>1</td>\n",
       "      <td>-1.0</td>\n",
       "      <td>1</td>\n",
       "      <td>22</td>\n",
       "    </tr>\n",
       "    <tr>\n",
       "      <th>2</th>\n",
       "      <td>1</td>\n",
       "      <td>24</td>\n",
       "      <td>1</td>\n",
       "      <td>70.0</td>\n",
       "      <td>1</td>\n",
       "      <td>26</td>\n",
       "    </tr>\n",
       "    <tr>\n",
       "      <th>3</th>\n",
       "      <td>1</td>\n",
       "      <td>24</td>\n",
       "      <td>1</td>\n",
       "      <td>-1.0</td>\n",
       "      <td>1</td>\n",
       "      <td>25</td>\n",
       "    </tr>\n",
       "    <tr>\n",
       "      <th>4</th>\n",
       "      <td>1</td>\n",
       "      <td>59</td>\n",
       "      <td>265</td>\n",
       "      <td>35.9</td>\n",
       "      <td>265</td>\n",
       "      <td>60</td>\n",
       "    </tr>\n",
       "    <tr>\n",
       "      <th>...</th>\n",
       "      <td>...</td>\n",
       "      <td>...</td>\n",
       "      <td>...</td>\n",
       "      <td>...</td>\n",
       "      <td>...</td>\n",
       "      <td>...</td>\n",
       "    </tr>\n",
       "    <tr>\n",
       "      <th>2681280</th>\n",
       "      <td>265</td>\n",
       "      <td>94</td>\n",
       "      <td>265</td>\n",
       "      <td>-1.0</td>\n",
       "      <td>265</td>\n",
       "      <td>95</td>\n",
       "    </tr>\n",
       "    <tr>\n",
       "      <th>2681281</th>\n",
       "      <td>265</td>\n",
       "      <td>95</td>\n",
       "      <td>265</td>\n",
       "      <td>10.0</td>\n",
       "      <td>265</td>\n",
       "      <td>95</td>\n",
       "    </tr>\n",
       "    <tr>\n",
       "      <th>2681282</th>\n",
       "      <td>265</td>\n",
       "      <td>95</td>\n",
       "      <td>265</td>\n",
       "      <td>60.0</td>\n",
       "      <td>265</td>\n",
       "      <td>95</td>\n",
       "    </tr>\n",
       "    <tr>\n",
       "      <th>2681283</th>\n",
       "      <td>265</td>\n",
       "      <td>95</td>\n",
       "      <td>68</td>\n",
       "      <td>38.7</td>\n",
       "      <td>68</td>\n",
       "      <td>1</td>\n",
       "    </tr>\n",
       "    <tr>\n",
       "      <th>2681284</th>\n",
       "      <td>265</td>\n",
       "      <td>95</td>\n",
       "      <td>265</td>\n",
       "      <td>-1.0</td>\n",
       "      <td>265</td>\n",
       "      <td>0</td>\n",
       "    </tr>\n",
       "  </tbody>\n",
       "</table>\n",
       "<p>2681285 rows × 6 columns</p>\n",
       "</div>"
      ]
     },
     "execution_count": 2,
     "metadata": {},
     "output_type": "execute_result"
    }
   ],
   "execution_count": 2
  },
  {
   "metadata": {
    "ExecuteTime": {
     "end_time": "2025-04-17T16:16:32.469561Z",
     "start_time": "2025-04-17T13:36:38.295454Z"
    }
   },
   "cell_type": "code",
   "source": [
    "# === Training Q-learning ===\n",
    "import pandas as pd\n",
    "import torch\n",
    "import torch.nn as nn\n",
    "import torch.optim as optim\n",
    "from torch.utils.data import Dataset, DataLoader\n",
    "import numpy as np\n",
    "from tqdm import tqdm\n",
    "import os\n",
    "\n",
    "# === Step 1: Load the new (s, a, r, s') samples ===\n",
    "num_time_bins = 96  # 15min\n",
    "samples_path = './data_for_q_learning/q_learning_samples_realistic_2024-01.csv'\n",
    "df = pd.read_csv(samples_path)\n",
    "\n",
    "# Encode all zone IDs into continuous integer IDs\n",
    "all_zone_ids = pd.unique(df[['s_zone', 'a_zone', 's_prime_zone']].values.ravel())\n",
    "zone_id_map = {z: i for i, z in enumerate(sorted(all_zone_ids))}\n",
    "num_zones = len(zone_id_map)\n",
    "\n",
    "# Map original zone IDs to 0,1,2,3,... for embedding\n",
    "df['s_zone'] = df['s_zone'].map(zone_id_map)\n",
    "df['a_zone'] = df['a_zone'].map(zone_id_map)\n",
    "df['s_prime_zone'] = df['s_prime_zone'].map(zone_id_map)\n",
    "\n",
    "# === Step 2: Define PyTorch Dataset ===\n",
    "class QLearningDataset(Dataset):\n",
    "    def __init__(self, df):\n",
    "        self.s_zone = torch.tensor(df['s_zone'].values, dtype=torch.long)\n",
    "        self.t_bin = torch.tensor(df['t_bin'].values, dtype=torch.long)\n",
    "        self.a_zone = torch.tensor(df['a_zone'].values, dtype=torch.long)\n",
    "        self.reward = torch.tensor(df['reward'].values, dtype=torch.float32)\n",
    "        self.s_prime_zone = torch.tensor(df['s_prime_zone'].values, dtype=torch.long)\n",
    "        self.s_prime_t_bin = torch.tensor(df['s_prime_t_bin'].values, dtype=torch.long)\n",
    "\n",
    "    def __len__(self):\n",
    "        return len(self.s_zone)\n",
    "\n",
    "    def __getitem__(self, idx):\n",
    "        return (self.s_zone[idx], self.t_bin[idx], self.a_zone[idx],\n",
    "                self.reward[idx], self.s_prime_zone[idx], self.s_prime_t_bin[idx])\n",
    "\n",
    "dataset = QLearningDataset(df)\n",
    "# dataloader = DataLoader(dataset, batch_size=4096, shuffle=True, num_workers=4)\n",
    "dataloader = DataLoader(dataset, batch_size=4096, shuffle=True, num_workers=0)\n",
    "\n",
    "\n",
    "# === Step 3: Define Q-network ===\n",
    "class QNetwork(nn.Module):\n",
    "    def __init__(self, num_zones, num_time_bins, embed_dim=16):\n",
    "        super().__init__()\n",
    "        self.zone_embed = nn.Embedding(num_zones, embed_dim)\n",
    "        self.time_embed = nn.Embedding(num_time_bins, embed_dim)\n",
    "        self.net = nn.Sequential(\n",
    "            nn.Linear(embed_dim * 3, 128),  # 适度扩大 hidden layer\n",
    "            nn.ReLU(),\n",
    "            nn.Linear(128, 1)\n",
    "        )\n",
    "\n",
    "    def forward(self, s_zone, t_bin, a_zone):\n",
    "        s_embed = self.zone_embed(s_zone)\n",
    "        t_embed = self.time_embed(t_bin)\n",
    "        a_embed = self.zone_embed(a_zone)\n",
    "        x = torch.cat([s_embed, t_embed, a_embed], dim=1)\n",
    "        return self.net(x).squeeze(1)\n",
    "\n",
    "# Instantiate models\n",
    "q_net = QNetwork(num_zones, num_time_bins)\n",
    "target_q_net = QNetwork(num_zones, num_time_bins)\n",
    "target_q_net.load_state_dict(q_net.state_dict())  # Copy initial weights\n",
    "\n",
    "# === Step 4: Setup training components ===\n",
    "optimizer = optim.Adam(q_net.parameters(), lr=1e-3)\n",
    "loss_fn = nn.MSELoss()\n",
    "gamma = 0.99\n",
    "\n",
    "# === Step 5: Training loop ===\n",
    "epochs = 20\n",
    "epoch_losses = []\n",
    "tau = 0.005  # Soft update coefficient\n",
    "\n",
    "os.makedirs(\"./Q_learning\", exist_ok=True)\n",
    "\n",
    "for epoch in range(epochs):\n",
    "    q_net.train()\n",
    "    total_loss = 0\n",
    "    tqdm_bar = tqdm(dataloader, desc=f\"Epoch {epoch+1}\")\n",
    "\n",
    "    for s, t, a, r, s_p, t_p in tqdm_bar:\n",
    "        with torch.no_grad():\n",
    "            a_prime = torch.arange(num_zones).repeat(len(s_p), 1).to(torch.long)\n",
    "            s_prime_rep = s_p.unsqueeze(1).repeat(1, num_zones).flatten()\n",
    "            t_prime_rep = t_p.unsqueeze(1).repeat(1, num_zones).flatten()\n",
    "            a_prime_flat = a_prime.flatten()\n",
    "\n",
    "            q_values = target_q_net(s_prime_rep, t_prime_rep, a_prime_flat)\n",
    "            q_values = q_values.view(len(s_p), num_zones)\n",
    "            max_q = q_values.max(dim=1)[0]\n",
    "\n",
    "        target = r + gamma * max_q\n",
    "        pred_q = q_net(s, t, a)\n",
    "        loss = loss_fn(pred_q, target)\n",
    "\n",
    "        optimizer.zero_grad()\n",
    "        loss.backward()\n",
    "        optimizer.step()\n",
    "        total_loss += loss.item()\n",
    "        tqdm_bar.set_postfix(batch_loss=loss.item())\n",
    "\n",
    "        # === Soft update target network ===\n",
    "        with torch.no_grad():\n",
    "            for target_param, param in zip(target_q_net.parameters(), q_net.parameters()):\n",
    "                target_param.data.copy_(tau * param.data + (1.0 - tau) * target_param.data)\n",
    "\n",
    "    epoch_losses.append(total_loss)\n",
    "    print(f\"Epoch {epoch+1}, Loss: {total_loss:.4f}\")\n",
    "\n",
    "# === Step 6: Save model and loss ===\n",
    "torch.save(q_net.state_dict(), f\"./Q_learning/q_network_realistic_{epochs}_epochs.pt\")\n",
    "pd.DataFrame({'epoch': list(range(1, len(epoch_losses)+1)), 'loss': epoch_losses})\\\n",
    "  .to_csv(f\"./Q_learning/q_training_loss_realistic_{epochs}_epochs.csv\", index=False)\n",
    "\n",
    "print(f\"✅ Training finished. Model and loss history saved.\")\n"
   ],
   "id": "9dd7fd560b3b5011",
   "outputs": [
    {
     "name": "stderr",
     "output_type": "stream",
     "text": [
      "Epoch 1: 100%|██████████| 655/655 [07:13<00:00,  1.51it/s, batch_loss=83.7]\n"
     ]
    },
    {
     "name": "stdout",
     "output_type": "stream",
     "text": [
      "Epoch 1, Loss: 95589.0429\n"
     ]
    },
    {
     "name": "stderr",
     "output_type": "stream",
     "text": [
      "Epoch 2: 100%|██████████| 655/655 [07:12<00:00,  1.51it/s, batch_loss=72.5]\n"
     ]
    },
    {
     "name": "stdout",
     "output_type": "stream",
     "text": [
      "Epoch 2, Loss: 49813.2337\n"
     ]
    },
    {
     "name": "stderr",
     "output_type": "stream",
     "text": [
      "Epoch 3: 100%|██████████| 655/655 [07:09<00:00,  1.53it/s, batch_loss=55.4]\n"
     ]
    },
    {
     "name": "stdout",
     "output_type": "stream",
     "text": [
      "Epoch 3, Loss: 41979.9844\n"
     ]
    },
    {
     "name": "stderr",
     "output_type": "stream",
     "text": [
      "Epoch 4: 100%|██████████| 655/655 [09:26<00:00,  1.16it/s, batch_loss=52.6]\n"
     ]
    },
    {
     "name": "stdout",
     "output_type": "stream",
     "text": [
      "Epoch 4, Loss: 35710.7257\n"
     ]
    },
    {
     "name": "stderr",
     "output_type": "stream",
     "text": [
      "Epoch 5: 100%|██████████| 655/655 [12:33<00:00,  1.15s/it, batch_loss=46.9]\n"
     ]
    },
    {
     "name": "stdout",
     "output_type": "stream",
     "text": [
      "Epoch 5, Loss: 31450.2858\n"
     ]
    },
    {
     "name": "stderr",
     "output_type": "stream",
     "text": [
      "Epoch 6: 100%|██████████| 655/655 [12:41<00:00,  1.16s/it, batch_loss=46]  \n"
     ]
    },
    {
     "name": "stdout",
     "output_type": "stream",
     "text": [
      "Epoch 6, Loss: 28771.6464\n"
     ]
    },
    {
     "name": "stderr",
     "output_type": "stream",
     "text": [
      "Epoch 7: 100%|██████████| 655/655 [08:16<00:00,  1.32it/s, batch_loss=37.6]\n"
     ]
    },
    {
     "name": "stdout",
     "output_type": "stream",
     "text": [
      "Epoch 7, Loss: 26607.2546\n"
     ]
    },
    {
     "name": "stderr",
     "output_type": "stream",
     "text": [
      "Epoch 8: 100%|██████████| 655/655 [06:41<00:00,  1.63it/s, batch_loss=39.3]\n"
     ]
    },
    {
     "name": "stdout",
     "output_type": "stream",
     "text": [
      "Epoch 8, Loss: 24961.0051\n"
     ]
    },
    {
     "name": "stderr",
     "output_type": "stream",
     "text": [
      "Epoch 9: 100%|██████████| 655/655 [06:46<00:00,  1.61it/s, batch_loss=39.6]\n"
     ]
    },
    {
     "name": "stdout",
     "output_type": "stream",
     "text": [
      "Epoch 9, Loss: 23849.0852\n"
     ]
    },
    {
     "name": "stderr",
     "output_type": "stream",
     "text": [
      "Epoch 10: 100%|██████████| 655/655 [07:56<00:00,  1.37it/s, batch_loss=30.7]\n"
     ]
    },
    {
     "name": "stdout",
     "output_type": "stream",
     "text": [
      "Epoch 10, Loss: 23036.5423\n"
     ]
    },
    {
     "name": "stderr",
     "output_type": "stream",
     "text": [
      "Epoch 11: 100%|██████████| 655/655 [08:45<00:00,  1.25it/s, batch_loss=33.8]\n"
     ]
    },
    {
     "name": "stdout",
     "output_type": "stream",
     "text": [
      "Epoch 11, Loss: 22165.0976\n"
     ]
    },
    {
     "name": "stderr",
     "output_type": "stream",
     "text": [
      "Epoch 12: 100%|██████████| 655/655 [08:45<00:00,  1.25it/s, batch_loss=36.7]\n"
     ]
    },
    {
     "name": "stdout",
     "output_type": "stream",
     "text": [
      "Epoch 12, Loss: 21663.6941\n"
     ]
    },
    {
     "name": "stderr",
     "output_type": "stream",
     "text": [
      "Epoch 13: 100%|██████████| 655/655 [07:00<00:00,  1.56it/s, batch_loss=34.2]\n"
     ]
    },
    {
     "name": "stdout",
     "output_type": "stream",
     "text": [
      "Epoch 13, Loss: 21142.6696\n"
     ]
    },
    {
     "name": "stderr",
     "output_type": "stream",
     "text": [
      "Epoch 14: 100%|██████████| 655/655 [06:52<00:00,  1.59it/s, batch_loss=28.4]\n"
     ]
    },
    {
     "name": "stdout",
     "output_type": "stream",
     "text": [
      "Epoch 14, Loss: 20871.1706\n"
     ]
    },
    {
     "name": "stderr",
     "output_type": "stream",
     "text": [
      "Epoch 15: 100%|██████████| 655/655 [06:51<00:00,  1.59it/s, batch_loss=30.8]\n"
     ]
    },
    {
     "name": "stdout",
     "output_type": "stream",
     "text": [
      "Epoch 15, Loss: 20610.0068\n"
     ]
    },
    {
     "name": "stderr",
     "output_type": "stream",
     "text": [
      "Epoch 16: 100%|██████████| 655/655 [06:48<00:00,  1.61it/s, batch_loss=28.3]\n"
     ]
    },
    {
     "name": "stdout",
     "output_type": "stream",
     "text": [
      "Epoch 16, Loss: 20362.0797\n"
     ]
    },
    {
     "name": "stderr",
     "output_type": "stream",
     "text": [
      "Epoch 17: 100%|██████████| 655/655 [07:12<00:00,  1.51it/s, batch_loss=36.6]\n"
     ]
    },
    {
     "name": "stdout",
     "output_type": "stream",
     "text": [
      "Epoch 17, Loss: 20232.3057\n"
     ]
    },
    {
     "name": "stderr",
     "output_type": "stream",
     "text": [
      "Epoch 18: 100%|██████████| 655/655 [07:12<00:00,  1.51it/s, batch_loss=25]  \n"
     ]
    },
    {
     "name": "stdout",
     "output_type": "stream",
     "text": [
      "Epoch 18, Loss: 20150.9315\n"
     ]
    },
    {
     "name": "stderr",
     "output_type": "stream",
     "text": [
      "Epoch 19: 100%|██████████| 655/655 [07:21<00:00,  1.48it/s, batch_loss=29]  \n"
     ]
    },
    {
     "name": "stdout",
     "output_type": "stream",
     "text": [
      "Epoch 19, Loss: 19943.0643\n"
     ]
    },
    {
     "name": "stderr",
     "output_type": "stream",
     "text": [
      "Epoch 20: 100%|██████████| 655/655 [07:05<00:00,  1.54it/s, batch_loss=25.7]"
     ]
    },
    {
     "name": "stdout",
     "output_type": "stream",
     "text": [
      "Epoch 20, Loss: 19863.5511\n",
      "✅ Training finished. Model and loss history saved.\n"
     ]
    },
    {
     "name": "stderr",
     "output_type": "stream",
     "text": [
      "\n"
     ]
    }
   ],
   "execution_count": 6
  },
  {
   "metadata": {
    "ExecuteTime": {
     "end_time": "2025-04-19T10:25:16.326380Z",
     "start_time": "2025-04-19T10:25:15.382082Z"
    }
   },
   "cell_type": "code",
   "source": [
    "import pandas as pd\n",
    "import matplotlib.pyplot as plt\n",
    "\n",
    "df = pd.read_csv(\"./Q_learning/q_training_loss_realistic_20_epochs.csv\")\n",
    "\n",
    "# Plot the training loss\n",
    "plt.figure(figsize=(8, 5))\n",
    "plt.plot(df['epoch'], df['loss'], marker='o')\n",
    "plt.xlabel('Epoch')\n",
    "plt.ylabel('Loss')\n",
    "plt.title('Training Loss over Epochs')\n",
    "plt.grid(True)\n",
    "plt.show()"
   ],
   "id": "2b8d7ca092f8563d",
   "outputs": [
    {
     "data": {
      "text/plain": [
       "<Figure size 800x500 with 1 Axes>"
      ],
      "image/png": "[encoded data removed]"
     },
     "metadata": {},
     "output_type": "display_data"
    }
   ],
   "execution_count": 4
  }
 ],
 "metadata": {
  "kernelspec": {
   "display_name": "Python 3",
   "language": "python",
   "name": "python3"
  },
  "language_info": {
   "codemirror_mode": {
    "name": "ipython",
    "version": 2
   },
   "file_extension": ".py",
   "mimetype": "text/x-python",
   "name": "python",
   "nbconvert_exporter": "python",
   "pygments_lexer": "ipython2",
   "version": "2.7.6"
  }
 },
 "nbformat": 4,
 "nbformat_minor": 5
}
