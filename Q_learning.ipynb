{
 "cells": [
  {
   "metadata": {
    "ExecuteTime": {
     "end_time": "2025-04-03T15:11:59.345504Z",
     "start_time": "2025-04-03T15:11:57.758170Z"
    }
   },
   "cell_type": "code",
   "source": [
    "from DOPU_given_timerange import get_combined_cleaned_one_month_df\n",
    "\n",
    "get_combined_cleaned_one_month_df()"
   ],
   "id": "2092f11157b06206",
   "outputs": [],
   "execution_count": 17
  },
  {
   "metadata": {
    "ExecuteTime": {
     "end_time": "2025-04-03T20:24:11.499033Z",
     "start_time": "2025-04-03T20:23:55.440549Z"
    }
   },
   "cell_type": "code",
   "source": [
    "# === Construct (s,a,r,s') using the nearest 5 zone based on euclidean_distance ===\n",
    "\n",
    "from zone_coords import get_coord_as_csv\n",
    "# Required packages\n",
    "import pandas as pd\n",
    "import numpy as np\n",
    "import json\n",
    "\n",
    "# === Step 1: Load Parquet taxi trip data ===\n",
    "df = pd.read_parquet('./all_cleaned_data/combined_cleaned_data_2024-01.parquet')\n",
    "\n",
    "# === Step 2: Load zone coordinates ===\n",
    "# CSV should contain: LocationID, Latitude, Longitude\n",
    "get_coord_as_csv()\n",
    "zone_coords_df = pd.read_csv('zone_coords.csv')\n",
    "zone_coords = {\n",
    "    int(row['LocationID']): (row['Latitude'], row['Longitude'])\n",
    "    for _, row in zone_coords_df.iterrows()\n",
    "}\n",
    "\n",
    "# === Step 3: Load zone neighbor dictionary from JSON ===\n",
    "with open('zone_neighbors.json', 'r') as f:\n",
    "    neighbor_dict = json.load(f)\n",
    "\n",
    "# Convert string keys and values to integers\n",
    "neighbor_dict = {int(k): [int(n) for n in v] for k, v in neighbor_dict.items()}\n",
    "\n",
    "# === Step 4: Helper functions ===\n",
    "\n",
    "# Convert a timestamp into a 30-minute time bin index (0 to 47)\n",
    "def get_time_bin_half_hour(dt):\n",
    "    return dt.hour * 2 + dt.minute // 30\n",
    "\n",
    "\n",
    "# Convert a timestamp into a 15-minute time bin index (0 to 95)\n",
    "def get_time_bin_fifteen_minutes(timestamp):\n",
    "    return timestamp.hour * 4 + timestamp.minute // 15  # 15min per bin\n",
    "\n",
    "\n",
    "# Compute Euclidean distance between two (lat, lon) coordinates\n",
    "def euclidean_distance(coord1, coord2):\n",
    "    return np.linalg.norm(np.array(coord1) - np.array(coord2))\n",
    "\n",
    "# Compute reward: fare minus 0.5 * empty travel distance\n",
    "def compute_reward(fare, empty_distance):\n",
    "    return fare - 0.5 * empty_distance\n",
    "\n",
    "# === Step 5: Construct (s, a, r, s′) tuples ===\n",
    "\n",
    "samples = []\n",
    "\n",
    "num_time_bins = 96\n",
    "\n",
    "for _, row in df.iterrows():\n",
    "    try:\n",
    "        # Extract key fields\n",
    "        s_zone = int(row['PULocationID'])\n",
    "        pickup_time = pd.to_datetime(row['PickupDatetime'])\n",
    "        fare = float(row['FareAmount'])\n",
    "\n",
    "        # Skip invalid or missing data\n",
    "        if s_zone not in zone_coords or s_zone not in neighbor_dict:\n",
    "            continue\n",
    "\n",
    "        # Define current state\n",
    "        t_bin = get_time_bin_fifteen_minutes(pickup_time)\n",
    "        s = (s_zone, t_bin)\n",
    "\n",
    "        # Loop over each possible neighbor as an action\n",
    "        for a_zone in neighbor_dict[s_zone]:\n",
    "            if a_zone not in zone_coords:\n",
    "                continue\n",
    "\n",
    "            # Calculate distance between zones\n",
    "            dist = euclidean_distance(zone_coords[s_zone], zone_coords[a_zone])\n",
    "\n",
    "            # Calculate reward for moving to that zone\n",
    "            reward = compute_reward(fare, dist)\n",
    "\n",
    "            # Next state: new zone, 30/15 minutes later\n",
    "            s_prime = (a_zone, (t_bin + 1) % num_time_bins)\n",
    "\n",
    "            # Save sample\n",
    "            samples.append({\n",
    "                's_zone': s_zone,\n",
    "                't_bin': t_bin,\n",
    "                'a_zone': a_zone,\n",
    "                'reward': reward,\n",
    "                's_prime_zone': s_prime[0],\n",
    "                's_prime_t_bin': s_prime[1]\n",
    "            })\n",
    "\n",
    "    except Exception as e:\n",
    "        # Silently skip problematic rows\n",
    "        continue\n",
    "\n",
    "# Convert to DataFrame and save\n",
    "samples_df = pd.DataFrame(samples)"
   ],
   "id": "initial_id",
   "outputs": [
    {
     "ename": "KeyboardInterrupt",
     "evalue": "",
     "output_type": "error",
     "traceback": [
      "\u001B[1;31m---------------------------------------------------------------------------\u001B[0m",
      "\u001B[1;31mKeyboardInterrupt\u001B[0m                         Traceback (most recent call last)",
      "Cell \u001B[1;32mIn[32], line 73\u001B[0m\n\u001B[0;32m     70\u001B[0m     \u001B[38;5;28;01mcontinue\u001B[39;00m\n\u001B[0;32m     72\u001B[0m \u001B[38;5;66;03m# Calculate distance between zones\u001B[39;00m\n\u001B[1;32m---> 73\u001B[0m dist \u001B[38;5;241m=\u001B[39m euclidean_distance(zone_coords[s_zone], zone_coords[a_zone])\n\u001B[0;32m     75\u001B[0m \u001B[38;5;66;03m# Calculate reward for moving to that zone\u001B[39;00m\n\u001B[0;32m     76\u001B[0m reward \u001B[38;5;241m=\u001B[39m compute_reward(fare, dist)\n",
      "Cell \u001B[1;32mIn[32], line 40\u001B[0m, in \u001B[0;36meuclidean_distance\u001B[1;34m(coord1, coord2)\u001B[0m\n\u001B[0;32m     39\u001B[0m \u001B[38;5;28;01mdef\u001B[39;00m \u001B[38;5;21meuclidean_distance\u001B[39m(coord1, coord2):\n\u001B[1;32m---> 40\u001B[0m     \u001B[38;5;28;01mreturn\u001B[39;00m np\u001B[38;5;241m.\u001B[39mlinalg\u001B[38;5;241m.\u001B[39mnorm(np\u001B[38;5;241m.\u001B[39marray(coord1) \u001B[38;5;241m-\u001B[39m np\u001B[38;5;241m.\u001B[39marray(coord2))\n",
      "File \u001B[1;32mD:\\Environment\\anaconda3\\Lib\\site-packages\\numpy\\linalg\\linalg.py:2552\u001B[0m, in \u001B[0;36mnorm\u001B[1;34m(x, ord, axis, keepdims)\u001B[0m\n\u001B[0;32m   2550\u001B[0m     sqnorm \u001B[38;5;241m=\u001B[39m x_real\u001B[38;5;241m.\u001B[39mdot(x_real) \u001B[38;5;241m+\u001B[39m x_imag\u001B[38;5;241m.\u001B[39mdot(x_imag)\n\u001B[0;32m   2551\u001B[0m \u001B[38;5;28;01melse\u001B[39;00m:\n\u001B[1;32m-> 2552\u001B[0m     sqnorm \u001B[38;5;241m=\u001B[39m x\u001B[38;5;241m.\u001B[39mdot(x)\n\u001B[0;32m   2553\u001B[0m ret \u001B[38;5;241m=\u001B[39m sqrt(sqnorm)\n\u001B[0;32m   2554\u001B[0m \u001B[38;5;28;01mif\u001B[39;00m keepdims:\n",
      "\u001B[1;31mKeyboardInterrupt\u001B[0m: "
     ]
    }
   ],
   "execution_count": 32
  },
  {
   "metadata": {
    "ExecuteTime": {
     "end_time": "2025-04-17T10:25:29.097683Z",
     "start_time": "2025-04-17T10:23:04.350058Z"
    }
   },
   "cell_type": "code",
   "source": [
    "# === Packages ===\n",
    "import pandas as pd\n",
    "import numpy as np\n",
    "\n",
    "# === Step 1: Load Parquet taxi trip data ===\n",
    "df = pd.read_parquet('./cleaned_data/cleaned_yellow_tripdata_2024-01.parquet')\n",
    "\n",
    "# === Step 2: Preprocess: Add time bins ===\n",
    "def get_time_bin_fifteen_minutes(timestamp):\n",
    "    return timestamp.hour * 4 + timestamp.minute // 15  # 15 min bin\n",
    "\n",
    "# Convert Pickup and Dropoff Datetime to time bins\n",
    "df['pickup_time_bin'] = pd.to_datetime(df['PickupDatetime']).apply(get_time_bin_fifteen_minutes)\n",
    "df['dropoff_time_bin'] = pd.to_datetime(df['DropoffDatetime']).apply(get_time_bin_fifteen_minutes)\n",
    "\n",
    "# === Step 3: Build (s, a, r, s') Samples ===\n",
    "samples = []\n",
    "\n",
    "# Group by (pickup_zone, pickup_time_bin)\n",
    "grouped = df.groupby(['PULocationID', 'pickup_time_bin'])\n",
    "\n",
    "num_time_bins = 96\n",
    "\n",
    "for (s_zone, t_bin), group in grouped:\n",
    "    for _, trip in group.iterrows():\n",
    "        try:\n",
    "            # Current state (s_zone, t_bin)\n",
    "            s = (s_zone, t_bin)\n",
    "\n",
    "            # Action: pick this trip → dropoff zone\n",
    "            a_zone = int(trip['DOLocationID'])\n",
    "            fare = float(trip['FareAmount'])\n",
    "\n",
    "            # Next state (dropoff zone, dropoff time bin)\n",
    "            s_prime_zone = a_zone\n",
    "            s_prime_t_bin = int(trip['dropoff_time_bin']) % num_time_bins\n",
    "\n",
    "            # Save this (s, a, r, s') sample\n",
    "            samples.append({\n",
    "                's_zone': s_zone,\n",
    "                't_bin': t_bin,\n",
    "                'a_zone': a_zone,\n",
    "                'reward': fare,\n",
    "                's_prime_zone': s_prime_zone,\n",
    "                's_prime_t_bin': s_prime_t_bin\n",
    "            })\n",
    "\n",
    "        except Exception as e:\n",
    "            continue  # Ignore invalid rows\n",
    "            \n",
    "    try:\n",
    "        samples.append({\n",
    "            's_zone': s_zone,\n",
    "            't_bin': t_bin,\n",
    "            'a_zone': s_zone,  # stay\n",
    "            'reward': -1.0,    # small negative reward for wasting time\n",
    "            's_prime_zone': s_zone,\n",
    "            's_prime_t_bin': (t_bin + 1) % num_time_bins\n",
    "        })\n",
    "    except Exception as e:\n",
    "        continue\n",
    "\n",
    "# === Step 4: Save to CSV ===\n",
    "samples_df = pd.DataFrame(samples)\n",
    "samples_df.to_csv('./data_for_q_learning/q_learning_samples_realistic_2024-01.csv', index=False)\n",
    "\n",
    "print(f\"✅ Done! Generated {len(samples_df)} (s, a, r, s') samples and saved to './data_for_q_learning/q_learning_samples_realistic_2024-01.csv'\")\n"
   ],
   "id": "89facc7632cd4852",
   "outputs": [
    {
     "name": "stdout",
     "output_type": "stream",
     "text": [
      "✅ Done! Generated 2681285 (s, a, r, s') samples and saved to './data_for_q_learning/q_learning_samples_realistic_2024-01.csv'\n"
     ]
    }
   ],
   "execution_count": 1
  },
  {
   "metadata": {
    "ExecuteTime": {
     "end_time": "2025-04-17T10:26:07.306835Z",
     "start_time": "2025-04-17T10:26:06.194905Z"
    }
   },
   "cell_type": "code",
   "source": [
    "df = pd.read_csv(\"./data_for_q_learning/q_learning_samples_realistic_2024-01.csv\")\n",
    "df.head(1000)"
   ],
   "id": "5788b830bc4e3e0d",
   "outputs": [
    {
     "data": {
      "text/plain": [
       "     s_zone  t_bin  a_zone  reward  s_prime_zone  s_prime_t_bin\n",
       "0         1     21     265    35.9           265             22\n",
       "1         1     21       1    -1.0             1             22\n",
       "2         1     24       1    70.0             1             26\n",
       "3         1     24       1    -1.0             1             25\n",
       "4         1     59     265    35.9           265             60\n",
       "..      ...    ...     ...     ...           ...            ...\n",
       "995       4      9     224     5.8           224              9\n",
       "996       4      9      68    12.8            68             10\n",
       "997       4      9      79     5.8            79             10\n",
       "998       4      9      13    22.6            13             10\n",
       "999       4      9     233    12.8           233             10\n",
       "\n",
       "[1000 rows x 6 columns]"
      ],
      "text/html": [
       "<div>\n",
       "<style scoped>\n",
       "    .dataframe tbody tr th:only-of-type {\n",
       "        vertical-align: middle;\n",
       "    }\n",
       "\n",
       "    .dataframe tbody tr th {\n",
       "        vertical-align: top;\n",
       "    }\n",
       "\n",
       "    .dataframe thead th {\n",
       "        text-align: right;\n",
       "    }\n",
       "</style>\n",
       "<table border=\"1\" class=\"dataframe\">\n",
       "  <thead>\n",
       "    <tr style=\"text-align: right;\">\n",
       "      <th></th>\n",
       "      <th>s_zone</th>\n",
       "      <th>t_bin</th>\n",
       "      <th>a_zone</th>\n",
       "      <th>reward</th>\n",
       "      <th>s_prime_zone</th>\n",
       "      <th>s_prime_t_bin</th>\n",
       "    </tr>\n",
       "  </thead>\n",
       "  <tbody>\n",
       "    <tr>\n",
       "      <th>0</th>\n",
       "      <td>1</td>\n",
       "      <td>21</td>\n",
       "      <td>265</td>\n",
       "      <td>35.9</td>\n",
       "      <td>265</td>\n",
       "      <td>22</td>\n",
       "    </tr>\n",
       "    <tr>\n",
       "      <th>1</th>\n",
       "      <td>1</td>\n",
       "      <td>21</td>\n",
       "      <td>1</td>\n",
       "      <td>-1.0</td>\n",
       "      <td>1</td>\n",
       "      <td>22</td>\n",
       "    </tr>\n",
       "    <tr>\n",
       "      <th>2</th>\n",
       "      <td>1</td>\n",
       "      <td>24</td>\n",
       "      <td>1</td>\n",
       "      <td>70.0</td>\n",
       "      <td>1</td>\n",
       "      <td>26</td>\n",
       "    </tr>\n",
       "    <tr>\n",
       "      <th>3</th>\n",
       "      <td>1</td>\n",
       "      <td>24</td>\n",
       "      <td>1</td>\n",
       "      <td>-1.0</td>\n",
       "      <td>1</td>\n",
       "      <td>25</td>\n",
       "    </tr>\n",
       "    <tr>\n",
       "      <th>4</th>\n",
       "      <td>1</td>\n",
       "      <td>59</td>\n",
       "      <td>265</td>\n",
       "      <td>35.9</td>\n",
       "      <td>265</td>\n",
       "      <td>60</td>\n",
       "    </tr>\n",
       "    <tr>\n",
       "      <th>...</th>\n",
       "      <td>...</td>\n",
       "      <td>...</td>\n",
       "      <td>...</td>\n",
       "      <td>...</td>\n",
       "      <td>...</td>\n",
       "      <td>...</td>\n",
       "    </tr>\n",
       "    <tr>\n",
       "      <th>995</th>\n",
       "      <td>4</td>\n",
       "      <td>9</td>\n",
       "      <td>224</td>\n",
       "      <td>5.8</td>\n",
       "      <td>224</td>\n",
       "      <td>9</td>\n",
       "    </tr>\n",
       "    <tr>\n",
       "      <th>996</th>\n",
       "      <td>4</td>\n",
       "      <td>9</td>\n",
       "      <td>68</td>\n",
       "      <td>12.8</td>\n",
       "      <td>68</td>\n",
       "      <td>10</td>\n",
       "    </tr>\n",
       "    <tr>\n",
       "      <th>997</th>\n",
       "      <td>4</td>\n",
       "      <td>9</td>\n",
       "      <td>79</td>\n",
       "      <td>5.8</td>\n",
       "      <td>79</td>\n",
       "      <td>10</td>\n",
       "    </tr>\n",
       "    <tr>\n",
       "      <th>998</th>\n",
       "      <td>4</td>\n",
       "      <td>9</td>\n",
       "      <td>13</td>\n",
       "      <td>22.6</td>\n",
       "      <td>13</td>\n",
       "      <td>10</td>\n",
       "    </tr>\n",
       "    <tr>\n",
       "      <th>999</th>\n",
       "      <td>4</td>\n",
       "      <td>9</td>\n",
       "      <td>233</td>\n",
       "      <td>12.8</td>\n",
       "      <td>233</td>\n",
       "      <td>10</td>\n",
       "    </tr>\n",
       "  </tbody>\n",
       "</table>\n",
       "<p>1000 rows × 6 columns</p>\n",
       "</div>"
      ]
     },
     "execution_count": 2,
     "metadata": {},
     "output_type": "execute_result"
    }
   ],
   "execution_count": 2
  },
  {
   "metadata": {
    "ExecuteTime": {
     "end_time": "2025-04-17T16:16:32.469561Z",
     "start_time": "2025-04-17T13:36:38.295454Z"
    }
   },
   "cell_type": "code",
   "source": [
    "# === Packages ===\n",
    "import pandas as pd\n",
    "import torch\n",
    "import torch.nn as nn\n",
    "import torch.optim as optim\n",
    "from torch.utils.data import Dataset, DataLoader\n",
    "import numpy as np\n",
    "from tqdm import tqdm\n",
    "import os\n",
    "\n",
    "# === Step 1: Load the new (s, a, r, s') samples ===\n",
    "num_time_bins = 96  # 15min\n",
    "samples_path = './data_for_q_learning/q_learning_samples_realistic_2024-01.csv'\n",
    "df = pd.read_csv(samples_path)\n",
    "\n",
    "# Encode all zone IDs into continuous integer IDs\n",
    "all_zone_ids = pd.unique(df[['s_zone', 'a_zone', 's_prime_zone']].values.ravel())\n",
    "zone_id_map = {z: i for i, z in enumerate(sorted(all_zone_ids))}\n",
    "num_zones = len(zone_id_map)\n",
    "\n",
    "# Map original zone IDs to 0,1,2,3,... for embedding\n",
    "df['s_zone'] = df['s_zone'].map(zone_id_map)\n",
    "df['a_zone'] = df['a_zone'].map(zone_id_map)\n",
    "df['s_prime_zone'] = df['s_prime_zone'].map(zone_id_map)\n",
    "\n",
    "# === Step 2: Define PyTorch Dataset ===\n",
    "class QLearningDataset(Dataset):\n",
    "    def __init__(self, df):\n",
    "        self.s_zone = torch.tensor(df['s_zone'].values, dtype=torch.long)\n",
    "        self.t_bin = torch.tensor(df['t_bin'].values, dtype=torch.long)\n",
    "        self.a_zone = torch.tensor(df['a_zone'].values, dtype=torch.long)\n",
    "        self.reward = torch.tensor(df['reward'].values, dtype=torch.float32)\n",
    "        self.s_prime_zone = torch.tensor(df['s_prime_zone'].values, dtype=torch.long)\n",
    "        self.s_prime_t_bin = torch.tensor(df['s_prime_t_bin'].values, dtype=torch.long)\n",
    "\n",
    "    def __len__(self):\n",
    "        return len(self.s_zone)\n",
    "\n",
    "    def __getitem__(self, idx):\n",
    "        return (self.s_zone[idx], self.t_bin[idx], self.a_zone[idx],\n",
    "                self.reward[idx], self.s_prime_zone[idx], self.s_prime_t_bin[idx])\n",
    "\n",
    "dataset = QLearningDataset(df)\n",
    "# dataloader = DataLoader(dataset, batch_size=4096, shuffle=True, num_workers=4)\n",
    "dataloader = DataLoader(dataset, batch_size=4096, shuffle=True, num_workers=0)\n",
    "\n",
    "\n",
    "# === Step 3: Define Q-network ===\n",
    "class QNetwork(nn.Module):\n",
    "    def __init__(self, num_zones, num_time_bins, embed_dim=16):\n",
    "        super().__init__()\n",
    "        self.zone_embed = nn.Embedding(num_zones, embed_dim)\n",
    "        self.time_embed = nn.Embedding(num_time_bins, embed_dim)\n",
    "        self.net = nn.Sequential(\n",
    "            nn.Linear(embed_dim * 3, 128),  # 适度扩大 hidden layer\n",
    "            nn.ReLU(),\n",
    "            nn.Linear(128, 1)\n",
    "        )\n",
    "\n",
    "    def forward(self, s_zone, t_bin, a_zone):\n",
    "        s_embed = self.zone_embed(s_zone)\n",
    "        t_embed = self.time_embed(t_bin)\n",
    "        a_embed = self.zone_embed(a_zone)\n",
    "        x = torch.cat([s_embed, t_embed, a_embed], dim=1)\n",
    "        return self.net(x).squeeze(1)\n",
    "\n",
    "# Instantiate models\n",
    "q_net = QNetwork(num_zones, num_time_bins)\n",
    "target_q_net = QNetwork(num_zones, num_time_bins)\n",
    "target_q_net.load_state_dict(q_net.state_dict())  # Copy initial weights\n",
    "\n",
    "# === Step 4: Setup training components ===\n",
    "optimizer = optim.Adam(q_net.parameters(), lr=1e-3)\n",
    "loss_fn = nn.MSELoss()\n",
    "gamma = 0.99\n",
    "\n",
    "# === Step 5: Training loop ===\n",
    "epochs = 20\n",
    "epoch_losses = []\n",
    "tau = 0.005  # Soft update coefficient\n",
    "\n",
    "os.makedirs(\"./Q_learning\", exist_ok=True)\n",
    "\n",
    "for epoch in range(epochs):\n",
    "    q_net.train()\n",
    "    total_loss = 0\n",
    "    tqdm_bar = tqdm(dataloader, desc=f\"Epoch {epoch+1}\")\n",
    "\n",
    "    for s, t, a, r, s_p, t_p in tqdm_bar:\n",
    "        with torch.no_grad():\n",
    "            a_prime = torch.arange(num_zones).repeat(len(s_p), 1).to(torch.long)\n",
    "            s_prime_rep = s_p.unsqueeze(1).repeat(1, num_zones).flatten()\n",
    "            t_prime_rep = t_p.unsqueeze(1).repeat(1, num_zones).flatten()\n",
    "            a_prime_flat = a_prime.flatten()\n",
    "\n",
    "            q_values = target_q_net(s_prime_rep, t_prime_rep, a_prime_flat)\n",
    "            q_values = q_values.view(len(s_p), num_zones)\n",
    "            max_q = q_values.max(dim=1)[0]\n",
    "\n",
    "        target = r + gamma * max_q\n",
    "        pred_q = q_net(s, t, a)\n",
    "        loss = loss_fn(pred_q, target)\n",
    "\n",
    "        optimizer.zero_grad()\n",
    "        loss.backward()\n",
    "        optimizer.step()\n",
    "        total_loss += loss.item()\n",
    "        tqdm_bar.set_postfix(batch_loss=loss.item())\n",
    "\n",
    "        # === Soft update target network ===\n",
    "        with torch.no_grad():\n",
    "            for target_param, param in zip(target_q_net.parameters(), q_net.parameters()):\n",
    "                target_param.data.copy_(tau * param.data + (1.0 - tau) * target_param.data)\n",
    "\n",
    "    epoch_losses.append(total_loss)\n",
    "    print(f\"Epoch {epoch+1}, Loss: {total_loss:.4f}\")\n",
    "\n",
    "# === Step 6: Save model and loss ===\n",
    "torch.save(q_net.state_dict(), f\"./Q_learning/q_network_realistic_{epochs}_epochs.pt\")\n",
    "pd.DataFrame({'epoch': list(range(1, len(epoch_losses)+1)), 'loss': epoch_losses})\\\n",
    "  .to_csv(f\"./Q_learning/q_training_loss_realistic_{epochs}_epochs.csv\", index=False)\n",
    "\n",
    "print(f\"✅ Training finished. Model and loss history saved.\")\n"
   ],
   "id": "9dd7fd560b3b5011",
   "outputs": [
    {
     "name": "stderr",
     "output_type": "stream",
     "text": [
      "Epoch 1: 100%|██████████| 655/655 [07:13<00:00,  1.51it/s, batch_loss=83.7]\n"
     ]
    },
    {
     "name": "stdout",
     "output_type": "stream",
     "text": [
      "Epoch 1, Loss: 95589.0429\n"
     ]
    },
    {
     "name": "stderr",
     "output_type": "stream",
     "text": [
      "Epoch 2: 100%|██████████| 655/655 [07:12<00:00,  1.51it/s, batch_loss=72.5]\n"
     ]
    },
    {
     "name": "stdout",
     "output_type": "stream",
     "text": [
      "Epoch 2, Loss: 49813.2337\n"
     ]
    },
    {
     "name": "stderr",
     "output_type": "stream",
     "text": [
      "Epoch 3: 100%|██████████| 655/655 [07:09<00:00,  1.53it/s, batch_loss=55.4]\n"
     ]
    },
    {
     "name": "stdout",
     "output_type": "stream",
     "text": [
      "Epoch 3, Loss: 41979.9844\n"
     ]
    },
    {
     "name": "stderr",
     "output_type": "stream",
     "text": [
      "Epoch 4: 100%|██████████| 655/655 [09:26<00:00,  1.16it/s, batch_loss=52.6]\n"
     ]
    },
    {
     "name": "stdout",
     "output_type": "stream",
     "text": [
      "Epoch 4, Loss: 35710.7257\n"
     ]
    },
    {
     "name": "stderr",
     "output_type": "stream",
     "text": [
      "Epoch 5: 100%|██████████| 655/655 [12:33<00:00,  1.15s/it, batch_loss=46.9]\n"
     ]
    },
    {
     "name": "stdout",
     "output_type": "stream",
     "text": [
      "Epoch 5, Loss: 31450.2858\n"
     ]
    },
    {
     "name": "stderr",
     "output_type": "stream",
     "text": [
      "Epoch 6: 100%|██████████| 655/655 [12:41<00:00,  1.16s/it, batch_loss=46]  \n"
     ]
    },
    {
     "name": "stdout",
     "output_type": "stream",
     "text": [
      "Epoch 6, Loss: 28771.6464\n"
     ]
    },
    {
     "name": "stderr",
     "output_type": "stream",
     "text": [
      "Epoch 7: 100%|██████████| 655/655 [08:16<00:00,  1.32it/s, batch_loss=37.6]\n"
     ]
    },
    {
     "name": "stdout",
     "output_type": "stream",
     "text": [
      "Epoch 7, Loss: 26607.2546\n"
     ]
    },
    {
     "name": "stderr",
     "output_type": "stream",
     "text": [
      "Epoch 8: 100%|██████████| 655/655 [06:41<00:00,  1.63it/s, batch_loss=39.3]\n"
     ]
    },
    {
     "name": "stdout",
     "output_type": "stream",
     "text": [
      "Epoch 8, Loss: 24961.0051\n"
     ]
    },
    {
     "name": "stderr",
     "output_type": "stream",
     "text": [
      "Epoch 9: 100%|██████████| 655/655 [06:46<00:00,  1.61it/s, batch_loss=39.6]\n"
     ]
    },
    {
     "name": "stdout",
     "output_type": "stream",
     "text": [
      "Epoch 9, Loss: 23849.0852\n"
     ]
    },
    {
     "name": "stderr",
     "output_type": "stream",
     "text": [
      "Epoch 10: 100%|██████████| 655/655 [07:56<00:00,  1.37it/s, batch_loss=30.7]\n"
     ]
    },
    {
     "name": "stdout",
     "output_type": "stream",
     "text": [
      "Epoch 10, Loss: 23036.5423\n"
     ]
    },
    {
     "name": "stderr",
     "output_type": "stream",
     "text": [
      "Epoch 11: 100%|██████████| 655/655 [08:45<00:00,  1.25it/s, batch_loss=33.8]\n"
     ]
    },
    {
     "name": "stdout",
     "output_type": "stream",
     "text": [
      "Epoch 11, Loss: 22165.0976\n"
     ]
    },
    {
     "name": "stderr",
     "output_type": "stream",
     "text": [
      "Epoch 12: 100%|██████████| 655/655 [08:45<00:00,  1.25it/s, batch_loss=36.7]\n"
     ]
    },
    {
     "name": "stdout",
     "output_type": "stream",
     "text": [
      "Epoch 12, Loss: 21663.6941\n"
     ]
    },
    {
     "name": "stderr",
     "output_type": "stream",
     "text": [
      "Epoch 13: 100%|██████████| 655/655 [07:00<00:00,  1.56it/s, batch_loss=34.2]\n"
     ]
    },
    {
     "name": "stdout",
     "output_type": "stream",
     "text": [
      "Epoch 13, Loss: 21142.6696\n"
     ]
    },
    {
     "name": "stderr",
     "output_type": "stream",
     "text": [
      "Epoch 14: 100%|██████████| 655/655 [06:52<00:00,  1.59it/s, batch_loss=28.4]\n"
     ]
    },
    {
     "name": "stdout",
     "output_type": "stream",
     "text": [
      "Epoch 14, Loss: 20871.1706\n"
     ]
    },
    {
     "name": "stderr",
     "output_type": "stream",
     "text": [
      "Epoch 15: 100%|██████████| 655/655 [06:51<00:00,  1.59it/s, batch_loss=30.8]\n"
     ]
    },
    {
     "name": "stdout",
     "output_type": "stream",
     "text": [
      "Epoch 15, Loss: 20610.0068\n"
     ]
    },
    {
     "name": "stderr",
     "output_type": "stream",
     "text": [
      "Epoch 16: 100%|██████████| 655/655 [06:48<00:00,  1.61it/s, batch_loss=28.3]\n"
     ]
    },
    {
     "name": "stdout",
     "output_type": "stream",
     "text": [
      "Epoch 16, Loss: 20362.0797\n"
     ]
    },
    {
     "name": "stderr",
     "output_type": "stream",
     "text": [
      "Epoch 17: 100%|██████████| 655/655 [07:12<00:00,  1.51it/s, batch_loss=36.6]\n"
     ]
    },
    {
     "name": "stdout",
     "output_type": "stream",
     "text": [
      "Epoch 17, Loss: 20232.3057\n"
     ]
    },
    {
     "name": "stderr",
     "output_type": "stream",
     "text": [
      "Epoch 18: 100%|██████████| 655/655 [07:12<00:00,  1.51it/s, batch_loss=25]  \n"
     ]
    },
    {
     "name": "stdout",
     "output_type": "stream",
     "text": [
      "Epoch 18, Loss: 20150.9315\n"
     ]
    },
    {
     "name": "stderr",
     "output_type": "stream",
     "text": [
      "Epoch 19: 100%|██████████| 655/655 [07:21<00:00,  1.48it/s, batch_loss=29]  \n"
     ]
    },
    {
     "name": "stdout",
     "output_type": "stream",
     "text": [
      "Epoch 19, Loss: 19943.0643\n"
     ]
    },
    {
     "name": "stderr",
     "output_type": "stream",
     "text": [
      "Epoch 20: 100%|██████████| 655/655 [07:05<00:00,  1.54it/s, batch_loss=25.7]"
     ]
    },
    {
     "name": "stdout",
     "output_type": "stream",
     "text": [
      "Epoch 20, Loss: 19863.5511\n",
      "✅ Training finished. Model and loss history saved.\n"
     ]
    },
    {
     "name": "stderr",
     "output_type": "stream",
     "text": [
      "\n"
     ]
    }
   ],
   "execution_count": 6
  },
  {
   "metadata": {
    "ExecuteTime": {
     "end_time": "2025-04-17T16:23:39.977813Z",
     "start_time": "2025-04-17T16:23:39.807671Z"
    }
   },
   "cell_type": "code",
   "source": [
    "import matplotlib.pyplot as plt\n",
    "\n",
    "# Plot the training loss\n",
    "plt.figure(figsize=(8, 5))\n",
    "plt.plot(range(1, len(epoch_losses) + 1), epoch_losses, marker='o')\n",
    "plt.xlabel('Epoch')\n",
    "plt.ylabel('Total Loss')\n",
    "plt.title('Training Loss over Epochs')\n",
    "plt.grid(True)\n",
    "plt.show()\n"
   ],
   "id": "2b8d7ca092f8563d",
   "outputs": [
    {
     "data": {
      "text/plain": [
       "<Figure size 800x500 with 1 Axes>"
      ],
      "image/png": "[encoded data removed]"
     },
     "metadata": {},
     "output_type": "display_data"
    }
   ],
   "execution_count": 7
  },
  {
   "metadata": {
    "ExecuteTime": {
     "end_time": "2025-04-06T15:59:52.333712Z",
     "start_time": "2025-04-06T15:59:52.327501Z"
    }
   },
   "cell_type": "code",
   "source": [
    "import matplotlib.pyplot as plt\n",
    "\n",
    "def plot_q_values_for_state(s_zone, t_bin, q_net, neighbor_dict, zone_id_map, inv_zone_map):\n",
    "    \"\"\"\n",
    "    Visualize Q(s, a) values for all available actions from a given state.\n",
    "    \"\"\"\n",
    "    s_zone_id = zone_id_map[s_zone]\n",
    "    neighbors = neighbor_dict.get(s_zone_id, [])\n",
    "    \n",
    "    if not neighbors:\n",
    "        print(\"❌ No neighbors for this zone.\")\n",
    "        return\n",
    "\n",
    "    s_tensor = torch.tensor([s_zone_id] * len(neighbors), dtype=torch.long)\n",
    "    t_tensor = torch.tensor([t_bin] * len(neighbors), dtype=torch.long)\n",
    "    a_tensor = torch.tensor(neighbors, dtype=torch.long)\n",
    "\n",
    "    with torch.no_grad():\n",
    "        q_values = q_net(s_tensor, t_tensor, a_tensor).numpy()\n",
    "\n",
    "    zone_labels = [inv_zone_map[a] for a in neighbors]\n",
    "\n",
    "    plt.figure(figsize=(10, 4))\n",
    "    plt.bar(zone_labels, q_values)\n",
    "    plt.xlabel(\"Neighbor Zone ID (a)\")\n",
    "    plt.ylabel(\"Q(s, a)\")\n",
    "    plt.title(f\"Q-values for s = (zone {s_zone}, time bin {t_bin})\")\n",
    "    plt.grid(True)\n",
    "    plt.tight_layout()\n",
    "    plt.show()\n"
   ],
   "id": "64a76196a370f4",
   "outputs": [],
   "execution_count": 2
  },
  {
   "metadata": {
    "ExecuteTime": {
     "end_time": "2025-04-06T16:01:40.969163Z",
     "start_time": "2025-04-06T16:01:35.983490Z"
    }
   },
   "cell_type": "code",
   "source": [
    "import torch.nn as nn\n",
    "import pandas as pd\n",
    "import torch\n",
    "num_time_bins = 96 #15min time bin\n",
    "input_path = f'./data_for_q_learning/q_learning_samples_{num_time_bins}.csv'\n",
    "df = pd.read_csv(input_path)\n",
    "# Encode all zone IDs into integer IDs\n",
    "all_zone_ids = pd.unique(df[['s_zone', 'a_zone', 's_prime_zone']].values.ravel())\n",
    "zone_id_map = {z: i for i, z in enumerate(sorted(all_zone_ids))}\n",
    "num_zones = len(zone_id_map)\n",
    "class QNetwork(nn.Module):\n",
    "    def __init__(self, num_zones, num_time_bins, embed_dim=16):\n",
    "        super().__init__()\n",
    "        self.zone_embed = nn.Embedding(num_zones, embed_dim)\n",
    "        self.time_embed = nn.Embedding(num_time_bins, embed_dim)\n",
    "        self.net = nn.Sequential(\n",
    "            nn.Linear(embed_dim * 3, 64),\n",
    "            nn.ReLU(),\n",
    "            nn.Linear(64, 1)\n",
    "        )\n",
    "\n",
    "    def forward(self, s_zone, t_bin, a_zone):\n",
    "        s_embed = self.zone_embed(s_zone)\n",
    "        t_embed = self.time_embed(t_bin)\n",
    "        a_embed = self.zone_embed(a_zone)\n",
    "        x = torch.cat([s_embed, t_embed, a_embed], dim=1)\n",
    "        return self.net(x).squeeze(1)\n",
    "q_net = QNetwork(num_zones, num_time_bins)\n",
    "q_net.load_state_dict(torch.load(\"Q_learning/q_network.pt\"))\n",
    "q_net.eval()\n"
   ],
   "id": "780c4d794f1e6d1a",
   "outputs": [
    {
     "name": "stderr",
     "output_type": "stream",
     "text": [
      "C:\\Users\\xiqiz\\AppData\\Local\\Temp\\ipykernel_14360\\3921175257.py:29: FutureWarning: You are using `torch.load` with `weights_only=False` (the current default value), which uses the default pickle module implicitly. It is possible to construct malicious pickle data which will execute arbitrary code during unpickling (See https://github.com/pytorch/pytorch/blob/main/SECURITY.md#untrusted-models for more details). In a future release, the default value for `weights_only` will be flipped to `True`. This limits the functions that could be executed during unpickling. Arbitrary objects will no longer be allowed to be loaded via this mode unless they are explicitly allowlisted by the user via `torch.serialization.add_safe_globals`. We recommend you start setting `weights_only=True` for any use case where you don't have full control of the loaded file. Please open an issue on GitHub for any issues related to this experimental feature.\n",
      "  q_net.load_state_dict(torch.load(\"Q_learning/q_network.pt\"))\n"
     ]
    },
    {
     "data": {
      "text/plain": [
       "QNetwork(\n",
       "  (zone_embed): Embedding(255, 16)\n",
       "  (time_embed): Embedding(96, 16)\n",
       "  (net): Sequential(\n",
       "    (0): Linear(in_features=48, out_features=64, bias=True)\n",
       "    (1): ReLU()\n",
       "    (2): Linear(in_features=64, out_features=1, bias=True)\n",
       "  )\n",
       ")"
      ]
     },
     "execution_count": 7,
     "metadata": {},
     "output_type": "execute_result"
    }
   ],
   "execution_count": 7
  },
  {
   "metadata": {
    "ExecuteTime": {
     "end_time": "2025-04-06T16:04:11.570170Z",
     "start_time": "2025-04-06T16:04:06.627382Z"
    }
   },
   "cell_type": "code",
   "source": [
    "import json\n",
    "df = pd.read_csv(\"./data_for_q_learning/q_learning_samples_96.csv\")\n",
    "zone_ids = pd.unique(df[['s_zone', 'a_zone', 's_prime_zone']].values.ravel())\n",
    "zone_id_map = {z: i for i, z in enumerate(sorted(zone_ids))}\n",
    "inv_zone_map = {v: k for k, v in zone_id_map.items()}\n",
    "with open(\"zone_neighbors.json\", \"r\") as f:\n",
    "    neighbor_dict_raw = json.load(f)\n",
    "neighbor_dict = {zone_id_map[int(k)]: [zone_id_map[int(n)] for n in v if int(n) in zone_id_map] \n",
    "                 for k, v in neighbor_dict_raw.items() if int(k) in zone_id_map}\n",
    "plot_q_values_for_state(\n",
    "    s_zone=10, \n",
    "    t_bin=50,    \n",
    "    q_net=q_net,\n",
    "    neighbor_dict=neighbor_dict,\n",
    "    zone_id_map=zone_id_map,\n",
    "    inv_zone_map=inv_zone_map\n",
    ")"
   ],
   "id": "90fb969fe06db259",
   "outputs": [
    {
     "data": {
      "text/plain": [
       "<Figure size 1000x400 with 1 Axes>"
      ],
      "image/png": "[encoded data removed]"
     },
     "metadata": {},
     "output_type": "display_data"
    }
   ],
   "execution_count": 13
  },
  {
   "metadata": {
    "ExecuteTime": {
     "end_time": "2025-04-04T14:07:19.119628Z",
     "start_time": "2025-04-04T14:07:19.114253Z"
    }
   },
   "cell_type": "code",
   "source": [
    "import pandas as pd\n",
    "import matplotlib.pyplot as plt\n",
    "\n",
    "def plot_avg_reward_distribution(csv_path, top_n=30):\n",
    "    \"\"\"\n",
    "    Plot average reward for top N (s_zone, a_zone) pairs.\n",
    "\n",
    "    Args:\n",
    "        csv_path: path to your q_learning_samples_96.csv\n",
    "        top_n: number of (s,a) pairs to plot\n",
    "    \"\"\"\n",
    "    df = pd.read_csv(csv_path)\n",
    "    grouped = df.groupby(['s_zone', 'a_zone'])['reward'].mean().reset_index()\n",
    "    grouped_sorted = grouped.sort_values(by='reward', ascending=False).head(top_n)\n",
    "\n",
    "    labels = [f\"{int(s)}→{int(a)}\" for s, a in zip(grouped_sorted['s_zone'], grouped_sorted['a_zone'])]\n",
    "    rewards = grouped_sorted['reward'].values\n",
    "\n",
    "    plt.figure(figsize=(12, 5))\n",
    "    plt.bar(labels, rewards)\n",
    "    plt.xticks(rotation=90)\n",
    "    plt.ylabel(\"Average Reward\")\n",
    "    plt.title(f\"Top {top_n} (s_zone → a_zone) Pairs by Avg. Reward\")\n",
    "    plt.grid(True)\n",
    "    plt.tight_layout()\n",
    "    plt.show()\n"
   ],
   "id": "a40fd343620347ae",
   "outputs": [],
   "execution_count": 21
  },
  {
   "metadata": {
    "ExecuteTime": {
     "end_time": "2025-04-04T14:07:28.507825Z",
     "start_time": "2025-04-04T14:07:22.214224Z"
    }
   },
   "cell_type": "code",
   "source": "plot_avg_reward_distribution(\"./data_for_q_learning/q_learning_samples_96.csv\", top_n=30)",
   "id": "6b38c93f9343216e",
   "outputs": [
    {
     "data": {
      "text/plain": [
       "<Figure size 1200x500 with 1 Axes>"
      ],
      "image/png": "[encoded data removed]"
     },
     "metadata": {},
     "output_type": "display_data"
    }
   ],
   "execution_count": 22
  },
  {
   "metadata": {},
   "cell_type": "code",
   "outputs": [],
   "execution_count": null,
   "source": "",
   "id": "2aee63685cd11a66"
  }
 ],
 "metadata": {
  "kernelspec": {
   "display_name": "Python 3",
   "language": "python",
   "name": "python3"
  },
  "language_info": {
   "codemirror_mode": {
    "name": "ipython",
    "version": 2
   },
   "file_extension": ".py",
   "mimetype": "text/x-python",
   "name": "python",
   "nbconvert_exporter": "python",
   "pygments_lexer": "ipython2",
   "version": "2.7.6"
  }
 },
 "nbformat": 4,
 "nbformat_minor": 5
}
