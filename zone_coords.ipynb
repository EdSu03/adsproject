{
 "cells": [
  {
   "cell_type": "code",
   "execution_count": 43,
   "metadata": {},
   "outputs": [],
   "source": [
    "# packages \n",
    "\n",
    "import pandas as pd\n",
    "\n",
    "import zone_coords\n"
   ]
  },
  {
   "cell_type": "code",
   "execution_count": null,
   "metadata": {},
   "outputs": [
    {
     "name": "stdout",
     "output_type": "stream",
     "text": [
      "{'x': -73.96555356545912, 'y': 40.78247809974788}\n",
      "x:  -73.99815149899052\n",
      "y:  40.71245931177951\n"
     ]
    },
    {
     "name": "stderr",
     "output_type": "stream",
     "text": [
      "c:\\Users\\bendh\\OneDrive\\Documents\\GitHub\\adsproject\\zone_coords.py:37: UserWarning: DataFrame columns are not unique, some columns will be omitted.\n",
      "  return df.T.to_dict()\n"
     ]
    }
   ],
   "source": [
    "# For testing zone_coords.py\n",
    "\n",
    "df = zone_coords.get_coords_as_df()\n",
    "df.head()\n",
    "\n",
    "# Define co-ordinates as a dictionary of string -> float\n",
    "CoordsType = dict[str, float] # For example {'x': 1.234, 'y': 5.678}\n",
    "\n",
    "lookup = zone_coords.get_coords_as_dict()\n",
    "\n",
    "print(lookup['Central Park'])          # >>> {'x': -73.96555356545912, 'y': 40.78247809974788}\n",
    "print(\"x: \", lookup['Chinatown']['x']) # >>> x: -73.99815149899052\n",
    "print(\"y: \", lookup['Chinatown']['y']) # >>> y: 40.71245931177951\n"
   ]
  }
 ],
 "metadata": {
  "kernelspec": {
   "display_name": "test_2",
   "language": "python",
   "name": "python3"
  },
  "language_info": {
   "codemirror_mode": {
    "name": "ipython",
    "version": 3
   },
   "file_extension": ".py",
   "mimetype": "text/x-python",
   "name": "python",
   "nbconvert_exporter": "python",
   "pygments_lexer": "ipython3",
   "version": "3.12.3"
  }
 },
 "nbformat": 4,
 "nbformat_minor": 2
}
