{
 "cells": [
  {
   "cell_type": "code",
   "execution_count": 40,
   "metadata": {},
   "outputs": [],
   "source": [
    "# packages \n",
    "\n",
    "import pandas as pd\n"
   ]
  },
  {
   "cell_type": "code",
   "execution_count": null,
   "metadata": {},
   "outputs": [
    {
     "name": "stdout",
     "output_type": "stream",
     "text": [
      "{'x': -73.96555356545912, 'y': 40.78247809974788}\n",
      "x:  -73.99815149899052\n",
      "y:  40.71245931177951\n"
     ]
    },
    {
     "name": "stderr",
     "output_type": "stream",
     "text": [
      "C:\\Users\\bendh\\AppData\\Local\\Temp\\ipykernel_11784\\3925257971.py:37: UserWarning: DataFrame columns are not unique, some columns will be omitted.\n",
      "  return df.T.to_dict()\n"
     ]
    }
   ],
   "source": [
    "def get_df() ->pd.DataFrame:\n",
    "    ## url for coords: REMEMBER TO REFERENCE IN REPORT!!! \n",
    "    url = \"https://gist.githubusercontent.com/shwina/72d79165ce9605d8f6e3378ae717b16b/raw/84a47bc587c99c6736f38a97f9dcc32ba8f89b05/taxi_zones.csv\"\n",
    "    return pd.read_csv(url)\n",
    "    \n",
    "\n",
    "def get_coords_as_df() -> pd.DataFrame: # returns a dataframe\n",
    "    \n",
    "    df = get_df()\n",
    "    \n",
    "    # OBJECTID and LocationID are the same, unnamed field also unnecessary:\n",
    "    df = df.drop(['Unnamed: 0', 'OBJECTID'], axis=1)\n",
    "    \n",
    "    # Don't care for Length or Area of zones (but if we do can always remove these lines later):\n",
    "    df = df.drop(['Shape_Leng','Shape_Area'], axis=1)\n",
    "    \n",
    "    # Reorder df => new order = LocationID, borough, zone, x, y  \n",
    "    df  = df.loc[:,['LocationID', 'borough', 'zone', 'x', 'y']]\n",
    "    return df\n",
    "\n",
    "df = get_coords_as_df()\n",
    "df.head()\n",
    "\n",
    "# Define co-ordinates as a dictionary of string -> float\n",
    "CoordsType = dict[str, float] # For example {'x': 1.234, 'y': 5.678}\n",
    "\n",
    "def get_coords_as_dict() -> dict[str, CoordsType]: # returns a dictionary to map (x,y)-coordinates to a zone name\n",
    "    df = get_df()\n",
    "    \n",
    "    # Remove all columns but zone, x and y:\n",
    "    df = df.drop(['Unnamed: 0', 'OBJECTID', 'Shape_Leng','Shape_Area', 'LocationID', 'borough'], axis=1)\n",
    "    \n",
    "    \n",
    "    # Set zone to index (necessary for to_dict to recognize zone as the key)\n",
    "    df = df.set_index('zone')\n",
    "    \n",
    "    return df.T.to_dict()\n",
    "\n",
    "lookup = get_coords_as_dict()\n",
    "\n",
    "print(lookup['Central Park'])          # >>> {'x': -73.96555356545912, 'y': 40.78247809974788}\n",
    "print(\"x: \", lookup['Chinatown']['x']) # >>> x: -73.99815149899052\n",
    "print(\"y: \", lookup['Chinatown']['y']) # >>> y: 40.71245931177951\n"
   ]
  }
 ],
 "metadata": {
  "kernelspec": {
   "display_name": "test_2",
   "language": "python",
   "name": "python3"
  },
  "language_info": {
   "codemirror_mode": {
    "name": "ipython",
    "version": 3
   },
   "file_extension": ".py",
   "mimetype": "text/x-python",
   "name": "python",
   "nbconvert_exporter": "python",
   "pygments_lexer": "ipython3",
   "version": "3.12.3"
  }
 },
 "nbformat": 4,
 "nbformat_minor": 2
}
