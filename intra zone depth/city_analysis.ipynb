{
 "cells": [
  {
   "cell_type": "code",
   "execution_count": null,
   "metadata": {},
   "outputs": [],
   "source": [
    "import networkx as nx # type: ignore\n",
    "import random\n",
    "from shapely.geometry import Point # type: ignore\n",
    "from tqdm import tqdm # type: ignore\n",
    "import geopandas as gpd # type: ignore\n",
    "import numpy as np # type: ignore\n",
    "\n",
    "%run toy_city_generation.ipynb\n",
    "%run city_utilities.ipynb\n",
    "%run real_city_generation.ipynb\n",
    "\n",
    "%pip install osmnx matplotlib"
   ]
  },
  {
   "cell_type": "code",
   "execution_count": null,
   "metadata": {},
   "outputs": [],
   "source": [
    "def get_valid_area(G, trip, tolerance=0.1):\n",
    "    start_nodes = {n for n, data in G.nodes(data=True) if data.get(\"zone\") == trip[\"start_zone_id\"]}\n",
    "    end_nodes = {n for n, data in G.nodes(data=True) if data.get(\"zone\") == trip[\"end_zone_id\"]}\n",
    "\n",
    "    if not start_nodes or not end_nodes:\n",
    "        return [], [], 0, 0\n",
    "\n",
    "    valid_start_points = set()\n",
    "    valid_end_points = set()\n",
    "\n",
    "    for s in start_nodes:\n",
    "        for e in end_nodes:\n",
    "            try:\n",
    "                path_length = nx.shortest_path_length(G, s, e, weight=\"length\")\n",
    "                path_time = nx.shortest_path_length(G, s, e, weight=\"travel_time\")\n",
    "\n",
    "                length_ratio = abs(path_length - trip[\"distance\"]) / trip[\"distance\"]\n",
    "                time_ratio = abs(path_time - trip[\"travel_time\"]) / trip[\"travel_time\"]\n",
    "\n",
    "                if length_ratio < tolerance and time_ratio < tolerance:\n",
    "                    valid_start_points.add(s)\n",
    "                    valid_end_points.add(e)\n",
    "\n",
    "            except nx.NetworkXNoPath:\n",
    "                continue\n",
    "\n",
    "    fraction_start = len(valid_start_points) / len(start_nodes) if start_nodes else 0\n",
    "    fraction_end = len(valid_end_points) / len(end_nodes) if end_nodes else 0\n",
    "\n",
    "    return list(valid_start_points), list(valid_end_points), fraction_start, fraction_end"
   ]
  },
  {
   "cell_type": "code",
   "execution_count": null,
   "metadata": {},
   "outputs": [],
   "source": [
    "# Main function\n",
    "\n",
    "USE_FAKE_CITY = False\n",
    "\n",
    "if USE_FAKE_CITY:\n",
    "    zones, street_graph, trips, width, height = generate_synthetic_city_data() # type: ignore\n",
    "    visualise(street_graph, zones, width, height, trips=trips) # type: ignore\n",
    "else:\n",
    "    zones, street_graph, trips = generate_real_city_data() # type: ignore\n",
    "    print(\"Visualising real city...\")\n",
    "    display_real_city(street_graph, zones, trips) # type: ignore"
   ]
  },
  {
   "cell_type": "code",
   "execution_count": null,
   "metadata": {},
   "outputs": [],
   "source": [
    "print(\"Getting valid area\")\n",
    "# Get the average fraction of valid start and end points\n",
    "start_fractions = []\n",
    "end_fractions = []\n",
    "for trip in trips:\n",
    "    print(trip)\n",
    "    valid_start_points, valid_end_points, fraction_start, fraction_end = get_valid_area(street_graph, trip)\n",
    "    start_fractions.append(fraction_start)\n",
    "    end_fractions.append(fraction_end)\n",
    "\n",
    "print(\"Average fraction of valid start points:\", np.mean(start_fractions))\n",
    "print(\"Average fraction of valid end points:\", np.mean(end_fractions))"
   ]
  }
 ],
 "metadata": {
  "kernelspec": {
   "display_name": "Python 3",
   "language": "python",
   "name": "python3"
  },
  "language_info": {
   "codemirror_mode": {
    "name": "ipython",
    "version": 3
   },
   "file_extension": ".py",
   "mimetype": "text/x-python",
   "name": "python",
   "nbconvert_exporter": "python",
   "pygments_lexer": "ipython3",
   "version": "3.12.0"
  }
 },
 "nbformat": 4,
 "nbformat_minor": 2
}
