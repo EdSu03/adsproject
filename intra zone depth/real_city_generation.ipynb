{
 "cells": [
  {
   "cell_type": "code",
   "execution_count": null,
   "metadata": {},
   "outputs": [],
   "source": [
    "import osmnx as ox\n",
    "import matplotlib.pyplot as plt\n",
    "import os\n",
    "import matplotlib as mpl\n",
    "import networkx as nx"
   ]
  },
  {
   "cell_type": "code",
   "execution_count": null,
   "metadata": {},
   "outputs": [],
   "source": [
    "def fetch_road_graph():\n",
    "    boroughs = ['Bronx, New York, USA', 'Brooklyn, New York, USA',\n",
    "                'Manhattan, New York, USA', 'Queens, New York, USA',\n",
    "                'Staten Island, New York, USA']\n",
    "    \n",
    "    print(\"Getting graph of NYC boroughs\")\n",
    "    \n",
    "    G = ox.graph_from_place(boroughs, network_type='drive', simplify=True)\n",
    "    \n",
    "    G = ox.add_edge_speeds(G)\n",
    "    G = ox.add_edge_travel_times(G)\n",
    "\n",
    "    return G"
   ]
  },
  {
   "cell_type": "code",
   "execution_count": null,
   "metadata": {},
   "outputs": [],
   "source": [
    "def generate_real_city_data(force=False):\n",
    "    # Don't fetch the graph if it already exists\n",
    "    if not os.path.exists(\"nyc_roads.graphml\") or force:\n",
    "        G = fetch_road_graph()\n",
    "\n",
    "        ox.save_graphml(G, filepath=\"nyc_roads.graphml\")\n",
    "        print(\"Graph saved as 'nyc_roads.graphml'\")\n",
    "    else:\n",
    "        G = ox.load_graphml(\"nyc_roads.graphml\")\n",
    "        print(\"Graph loaded from 'nyc_roads.graphml'\")\n",
    "\n",
    "    fig, ax = plt.subplots(figsize=(15, 15))\n",
    "    \n",
    "    # Get the speed values (in km/h) for each edge using networkx\n",
    "    speeds = nx.get_edge_attributes(G, 'speed_kph')\n",
    "\n",
    "    # Normalize the speed values for the color mapping\n",
    "    min_speed = min(speeds.values())\n",
    "    max_speed = max(speeds.values())\n",
    "    norm = mpl.colors.Normalize(vmin=min_speed, vmax=max_speed)\n",
    "    \n",
    "    # Map the normalized speed values to colors\n",
    "    colormap = plt.cm.viridis\n",
    "    edge_colors = [colormap(norm(speeds.get(edge, min_speed))) for edge in G.edges]\n",
    "\n",
    "    # Plot the graph with edge colors based on speed\n",
    "    ox.plot_graph(G, ax=ax, node_size=0, edge_linewidth=0.5, edge_color=edge_colors, show=False)\n",
    "    \n",
    "    # Create a colorbar for the speeds\n",
    "    sm = plt.cm.ScalarMappable(cmap=colormap, norm=norm)\n",
    "    sm.set_array([])  # Empty array for the colorbar\n",
    "    cbar = fig.colorbar(sm, ax=ax)\n",
    "    cbar.set_label(\"Speed (kph)\")\n",
    "    \n",
    "    plt.title(\"NYC Road Network with Edge Speeds\")\n",
    "    plt.tight_layout()\n",
    "    plt.savefig(\"nyc_roads_map_with_speeds.png\", dpi=450)\n",
    "    print(\"Map saved as 'nyc_roads_map_with_speeds.png'\")\n",
    "    plt.show()\n",
    "\n",
    "generate_real_city_data()"
   ]
  }
 ],
 "metadata": {
  "kernelspec": {
   "display_name": "Python 3",
   "language": "python",
   "name": "python3"
  },
  "language_info": {
   "codemirror_mode": {
    "name": "ipython",
    "version": 3
   },
   "file_extension": ".py",
   "mimetype": "text/x-python",
   "name": "python",
   "nbconvert_exporter": "python",
   "pygments_lexer": "ipython3",
   "version": "3.12.0"
  }
 },
 "nbformat": 4,
 "nbformat_minor": 2
}
