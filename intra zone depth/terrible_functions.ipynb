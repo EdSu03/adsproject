{
 "cells": [
  {
   "cell_type": "code",
   "execution_count": null,
   "metadata": {},
   "outputs": [],
   "source": [
    "import random\n",
    "import networkx as nx\n",
    "\n",
    "def crude_predict_start_end_points(zones, points_in_zone, street_graph, trip, time_per_unit, distance_lookup):\n",
    "    start_zone = next((z for z in zones if z[\"id\"] == trip[\"start_zone_id\"]), None)\n",
    "    end_zone = next((z for z in zones if z[\"id\"] == trip[\"end_zone_id\"]), None)\n",
    "\n",
    "    start_point = random.choice(points_in_zone[start_zone[\"id\"]])\n",
    "    end_point = random.choice(points_in_zone[end_zone[\"id\"]])\n",
    "\n",
    "    route = nx.shortest_path(street_graph, start_point[\"id\"], end_point[\"id\"], weight=\"weight\")\n",
    "    distance = distance_lookup[start_point[\"id\"]][end_point[\"id\"]]\n",
    "    distance = nx.shortest_path_length(street_graph, start_point[\"id\"], end_point[\"id\"], weight=\"weight\")\n",
    "    travel_time = distance / time_per_unit\n",
    "    distance_error = abs(distance - trip[\"travel_time\"])\n",
    "    time_error = abs(travel_time - trip[\"travel_time\"])\n",
    "\n",
    "    for _ in range(500):\n",
    "        new_start_point = random.choice(points_in_zone[start_zone[\"id\"]])\n",
    "        new_end_point = random.choice(points_in_zone[end_zone[\"id\"]])\n",
    "\n",
    "        try:\n",
    "            new_route = nx.shortest_path(street_graph, new_start_point[\"id\"], new_end_point[\"id\"], weight=\"weight\")\n",
    "        except nx.NetworkXNoPath:\n",
    "            continue\n",
    "        new_distance = nx.shortest_path_length(street_graph, new_start_point[\"id\"], new_end_point[\"id\"], weight=\"weight\")\n",
    "        new_travel_time = new_distance / time_per_unit\n",
    "        \n",
    "        # Is the new route's travel time and distance closer to the target?\n",
    "        new_distance_error = abs(new_distance - trip[\"distance\"])\n",
    "        new_time_error = abs(new_travel_time - trip[\"travel_time\"])\n",
    "\n",
    "        has_distance_improved = new_distance_error < distance_error and new_time_error <= time_error\n",
    "        has_time_improved = new_time_error < time_error and new_distance_error <= distance_error\n",
    "        \n",
    "        if has_distance_improved or has_time_improved:\n",
    "            print(\"Found a better route with distance error\", new_distance_error, \"and time error\", new_time_error)\n",
    "            route = new_route\n",
    "            distance = new_distance\n",
    "            travel_time = new_travel_time\n",
    "            start_point = new_start_point\n",
    "            end_point = new_end_point\n",
    "            distance_error = new_distance_error\n",
    "            time_error = new_time_error\n",
    "\n",
    "    # Assign our inferred start and end points to the trip\n",
    "    trip[\"estimated_start_point\"] = start_point\n",
    "    trip[\"estimated_end_point\"] = end_point\n",
    "    trip[\"estimated_route\"] = route"
   ]
  }
 ],
 "metadata": {
  "language_info": {
   "name": "python"
  }
 },
 "nbformat": 4,
 "nbformat_minor": 2
}
