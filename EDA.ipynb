{
 "cells": [
  {
   "cell_type": "code",
   "execution_count": null,
   "metadata": {},
   "outputs": [],
   "source": [
    "import os\n",
    "import pandas as pd\n",
    "from DOPU_given_timerange import get_cleaned_df\n",
    "\n",
    "get_cleaned_df\n",
    "\n",
    "df = pd.read_parquet(\"all_cleaned_data/all_cleaned_data.parquet\")\n",
    "df.head()"
   ]
  },
  {
   "cell_type": "code",
   "execution_count": null,
   "metadata": {},
   "outputs": [],
   "source": [
    "import matplotlib.pyplot as plt\n",
    "plt.matshow(df.drop([\"store_and_fwd_flag\", \"Airport_fee\", \"VendorID\", \"RatecodeID\", \"tpep_pickup_datetime\", \"tpep_dropoff_datetime\"], axis=1).corr())\n",
    "plt.show()"
   ]
  },
  {
   "cell_type": "code",
   "execution_count": null,
   "metadata": {
    "ExecuteTime": {
     "end_time": "2025-03-19T15:05:25.335527Z",
     "start_time": "2025-03-19T15:05:19.963748Z"
    }
   },
   "outputs": [],
   "source": [
    "import matplotlib.pyplot as plt\n",
    "import seaborn as sns\n",
    "import pandas as pd\n",
    "import os\n",
    "\n",
    "\n",
    "df = pd.read_parquet(\"all_cleaned_data/all_cleaned_data.parquet\")\n",
    "df.head()"
   ]
  },
  {
   "cell_type": "markdown",
   "metadata": {},
   "source": [
    "### Distribution of Pickups by Hour of Day\n",
    "- The number of pickups varies significantly by hour.\n",
    "- The number of trips starts increasing significantly from 7-8 AM and continues to rise steadily throughout the day.\n",
    "- The highest peak occurs between 5-6 PM, likely due to the evening commute.\n",
    "- Late-night pickups (after 10 PM) are fewer but still present, indicating demand for nightlife and airport trips.\n",
    "- This confirms that **time is a crucial factor for demand prediction** and should be included as a feature in XGBoost.\n",
    "    "
   ]
  },
  {
   "cell_type": "code",
   "execution_count": null,
   "metadata": {
    "ExecuteTime": {
     "end_time": "2025-03-19T15:06:15.784741Z",
     "start_time": "2025-03-19T15:05:25.340876Z"
    }
   },
   "outputs": [],
   "source": [
    "# -------------------------\n",
    "# Analyze the distribution of PickupDatetime to see if there are specific peak times.\n",
    "# -------------------------\n",
    "df[\"PickupDatetime\"] = pd.to_datetime(df[\"PickupDatetime\"])\n",
    "\n",
    "df[\"PickupHour\"] = df[\"PickupDatetime\"].dt.hour\n",
    "\n",
    "plt.figure(figsize=(10, 5))\n",
    "sns.countplot(x=\"PickupHour\", data=df, palette=\"viridis\")\n",
    "plt.xlabel(\"Hour of Day\")\n",
    "plt.ylabel(\"Number of Trips\")\n",
    "plt.title(\"Distribution of Pickups by Hour of Day\")\n",
    "plt.show()\n"
   ]
  },
  {
   "cell_type": "markdown",
   "metadata": {},
   "source": [
    "### Trip Duration & Distance Distribution\n",
    "\n",
    "- Most taxi trips are short-distance and have a duration of 10-20 minutes, covering 2-5 miles on average.\n",
    "- The distribution is right-skewed, meaning that while most trips are short, there are a few long-distance trips (>10 miles) that occur less frequently."
   ]
  },
  {
   "cell_type": "code",
   "execution_count": null,
   "metadata": {
    "ExecuteTime": {
     "end_time": "2025-03-19T15:11:09.897931Z",
     "start_time": "2025-03-19T15:06:15.790025Z"
    }
   },
   "outputs": [],
   "source": [
    "# -------------------------\n",
    "# Trip duration distribution\n",
    "# -------------------------\n",
    "plt.figure(figsize=(10, 5))\n",
    "sns.histplot(df[\"TripDuration\"], bins=100, kde=True, color=\"blue\")\n",
    "plt.xlim(0, df[\"TripDuration\"].quantile(0.99))\n",
    "plt.xlabel(\"Trip Duration\")\n",
    "plt.ylabel(\"Count\")\n",
    "plt.title(\"Trip Duration Distribution\")\n",
    "plt.show()"
   ]
  },
  {
   "cell_type": "code",
   "execution_count": null,
   "metadata": {
    "ExecuteTime": {
     "end_time": "2025-03-19T15:11:11.019201Z",
     "start_time": "2025-03-19T15:11:09.898935Z"
    }
   },
   "outputs": [],
   "source": [
    "print(df[\"TripDistance\"].describe())"
   ]
  },
  {
   "cell_type": "code",
   "execution_count": null,
   "metadata": {
    "ExecuteTime": {
     "end_time": "2025-03-19T15:16:06.859210Z",
     "start_time": "2025-03-19T15:11:11.020207Z"
    }
   },
   "outputs": [],
   "source": [
    "# -------------------------\n",
    "# Trip distance distribution\n",
    "# -------------------------\n",
    "plt.figure(figsize=(10, 5))\n",
    "sns.histplot(df[\"TripDistance\"], bins=100, kde=True, color=\"green\")\n",
    "plt.xlim(0, df[\"TripDistance\"].quantile(0.99))\n",
    "plt.xlabel(\"Trip Distance (miles)\")\n",
    "plt.ylabel(\"Count\")\n",
    "plt.title(\"Trip Distance Distribution\")\n",
    "plt.show()\n"
   ]
  },
  {
   "cell_type": "markdown",
   "metadata": {},
   "source": [
    "### Fare & Total Revenue Distribution\n",
    "- The majority of trips have a **fare amount between 0-20**, with a few high-value trips.\n",
    "- Some trips have exceptionally high fares (>$60), possibly representing **airport or long-distance trips**.\n",
    "- The **total revenue distribution follows a similar pattern**, with high-value trips being less frequent but financially impactful.\n",
    "- This indicates that **fare amount and revenue should be key features in the prediction model**."
   ]
  },
  {
   "cell_type": "code",
   "execution_count": null,
   "metadata": {
    "ExecuteTime": {
     "end_time": "2025-03-19T15:16:10.809556Z",
     "start_time": "2025-03-19T15:16:06.859210Z"
    }
   },
   "outputs": [],
   "source": [
    "print(df[[\"FareAmount\", \"TipAmount\", \"TotalAmount\"]].describe())"
   ]
  },
  {
   "cell_type": "code",
   "execution_count": null,
   "metadata": {
    "ExecuteTime": {
     "end_time": "2025-03-19T15:28:15.455737Z",
     "start_time": "2025-03-19T15:16:10.810564Z"
    }
   },
   "outputs": [],
   "source": [
    "# -------------------------\n",
    "# FareAmount, TipAmount, TotalAmount distribution\n",
    "# -------------------------\n",
    "\n",
    "fig, axes = plt.subplots(1, 3, figsize=(15, 5))\n",
    "\n",
    "sns.histplot(df[\"FareAmount\"], bins=50, kde=True, ax=axes[0], color=\"orange\")\n",
    "axes[0].set_title(\"Fare Amount Distributio\")\n",
    "\n",
    "sns.histplot(df[\"TipAmount\"], bins=50, kde=True, ax=axes[1], color=\"purple\")\n",
    "axes[1].set_title(\"Tip Amount Distribution\")\n",
    "\n",
    "sns.histplot(df[\"TotalAmount\"], bins=50, kde=True, ax=axes[2], color=\"red\")\n",
    "axes[2].set_title(\"Total Amount Distribution\")\n",
    "\n",
    "plt.tight_layout()\n",
    "plt.show()\n"
   ]
  },
  {
   "cell_type": "markdown",
   "metadata": {},
   "source": [
    "### Pickup & Dropoff Hotspots\n",
    "- Some zones have significantly higher pickup/dropoff counts than others.\n",
    "- **Business districts, airports, and entertainment hubs** appear to be high-demand areas.\n",
    "- This suggests that drivers should **optimize their locations based on pickup probability**.\n",
    "- It also highlights the importance of **spatial features (PULocationID, DOLocationID) in the model**."
   ]
  },
  {
   "cell_type": "code",
   "execution_count": null,
   "metadata": {
    "ExecuteTime": {
     "end_time": "2025-03-19T15:31:31.275870Z",
     "start_time": "2025-03-19T15:28:15.456915Z"
    }
   },
   "outputs": [],
   "source": [
    "# -------------------------\n",
    "# Popular pick-up locations\n",
    "# -------------------------\n",
    "plt.figure(figsize=(10, 5))\n",
    "sns.histplot(df[\"PULocationID\"], bins=50, kde=True, color=\"blue\")\n",
    "plt.xlabel(\"Pickup Location ID\")\n",
    "plt.ylabel(\"Count\")\n",
    "plt.title(\"Most Frequent Pickup Locations\")\n",
    "plt.show()\n"
   ]
  },
  {
   "cell_type": "code",
   "execution_count": null,
   "metadata": {
    "ExecuteTime": {
     "end_time": "2025-03-19T15:34:42.581095Z",
     "start_time": "2025-03-19T15:31:31.277255Z"
    }
   },
   "outputs": [],
   "source": [
    "# -------------------------\n",
    "# Popular drop-off locations\n",
    "# -------------------------\n",
    "plt.figure(figsize=(10, 5))\n",
    "sns.histplot(df[\"DOLocationID\"], bins=50, kde=True, color=\"red\")\n",
    "plt.xlabel(\"Dropoff Location ID\")\n",
    "plt.ylabel(\"Count\")\n",
    "plt.title(\"Most Frequent Dropoff Locations\")\n",
    "plt.show()\n"
   ]
  },
  {
   "cell_type": "markdown",
   "metadata": {},
   "source": [
    "### Total Revenue per Zone\n",
    "- The revenue distribution across pickup zones is highly **uneven**.\n",
    "- **Zone 132 and Zone 138** generate significantly higher total revenue compared to other zones.\n",
    "- This suggests that these zones are **high-value areas**, possibly major business hubs, airports, or high-demand locations.\n",
    "- The presence of other moderate-revenue zones indicates that while some zones dominate in earnings, other zones still contribute substantially to overall revenue.\n",
    "- These findings can help optimize **MDP decision-making**, as high-revenue zones may be preferable locations for drivers."
   ]
  },
  {
   "cell_type": "code",
   "execution_count": null,
   "metadata": {
    "ExecuteTime": {
     "end_time": "2025-03-19T15:34:43.058178Z",
     "start_time": "2025-03-19T15:34:42.581095Z"
    }
   },
   "outputs": [],
   "source": [
    "# Calculate the total revenue for each region\n",
    "revenue_per_zone = df.groupby('PULocationID')['TotalAmount'].sum().reset_index()\n",
    "# Sort by total revenue per region, from high to low\n",
    "revenue_per_zone = revenue_per_zone.sort_values(by='TotalAmount', ascending=False)"
   ]
  },
  {
   "cell_type": "code",
   "execution_count": null,
   "metadata": {
    "ExecuteTime": {
     "end_time": "2025-03-19T15:34:43.336068Z",
     "start_time": "2025-03-19T15:34:43.058178Z"
    }
   },
   "outputs": [],
   "source": [
    "# Plot\n",
    "plt.figure(figsize=(12, 6))\n",
    "sns.barplot(data=revenue_per_zone.head(20), x=\"PULocationID\", y=\"TotalAmount\", palette=\"viridis\")\n",
    "\n",
    "plt.xlabel(\"Pickup Zone (PULocationID)\")\n",
    "plt.ylabel(\"Total Revenue ($)\")\n",
    "plt.title(\"Total Revenue per Zone\")\n",
    "plt.xticks(rotation=90)\n",
    "plt.show()\n"
   ]
  },
  {
   "cell_type": "markdown",
   "metadata": {},
   "source": [
    "### Hourly Revenue Trends for Top 5 Zones\n",
    "- The revenue trends vary significantly across different high-revenue zones.\n",
    "- **Zone 132** exhibits the highest revenue throughout the day, with a clear peak between **16:00 - 20:00**.\n",
    "- **Zone 138 and Zone 161** follow a similar upward trend, peaking in the evening hours.\n",
    "- **Zones 230 and 237** maintain relatively stable revenue patterns throughout the day, with fewer fluctuations.\n",
    "- The differences in hourly trends suggest that some zones are **time-dependent high-revenue areas**, meaning revenue potential fluctuates based on the time of day.\n",
    "- Understanding these temporal patterns is crucial for **both XGBoost revenue prediction and MDP decision-making**, as drivers may need to adapt their strategies dynamically."
   ]
  },
  {
   "cell_type": "code",
   "execution_count": null,
   "metadata": {},
   "outputs": [],
   "source": [
    "# Ensure that the pickup time is in datetime format\n",
    "df['PickupDatetime'] = pd.to_datetime(df['PickupDatetime'])\n",
    "\n",
    "# Extract hour information from pickup time\n",
    "df['hour'] = df['PickupDatetime'].dt.hour\n",
    "\n",
    "# Compute total revenue per zone per hour\n",
    "revenue_per_zone_hourly = df.groupby(['PULocationID', 'hour'])['TotalAmount'].sum().reset_index()\n",
    "\n",
    "# Plot revenue trends for the top 5 highest revenue zones\n",
    "top_zones = revenue_per_zone_hourly.groupby('PULocationID')['TotalAmount'].sum().nlargest(5).index\n",
    "df_top_zones = revenue_per_zone_hourly[revenue_per_zone_hourly['PULocationID'].isin(top_zones)]\n",
    "\n",
    "# Define custom colors (manually selected high-contrast colors)\n",
    "custom_colors = [\"#1f77b4\", \"#ff7f0e\", \"#2ca02c\", \"#d62728\", \"#9467bd\"]\n",
    "\n",
    "plt.figure(figsize=(12, 6))\n",
    "sns.lineplot(data=df_top_zones, x='hour', y='TotalAmount', hue='PULocationID', marker='o', palette=custom_colors)\n",
    "\n",
    "plt.xlabel(\"Hour of the Day\")\n",
    "plt.ylabel(\"Total Revenue ($)\")\n",
    "plt.title(\"Hourly Revenue Trends for Top 5 Zones\")\n",
    "plt.legend(title=\"PULocationID\")\n",
    "plt.grid(True)\n",
    "plt.show()\n"
   ]
  },
  {
   "cell_type": "markdown",
   "metadata": {},
   "source": [
    "### Variable Correlation Analysis\n",
    "- **Trip distance, trip duration, and fare amount are highly correlated (>0.85).**\n",
    "- **Tip amount shows a weaker correlation (<0.6)**, indicating that tips may be influenced more by passenger behavior than trip characteristics.\n",
    "- These relationships help confirm which features should be included in the prediction model."
   ]
  },
  {
   "cell_type": "code",
   "execution_count": null,
   "metadata": {
    "ExecuteTime": {
     "end_time": "2025-03-19T15:34:45.279771Z",
     "start_time": "2025-03-19T15:34:43.336068Z"
    }
   },
   "outputs": [],
   "source": [
    "# -------------------------\n",
    "# Correlation analysis\n",
    "# -------------------------\n",
    "plt.figure(figsize=(10, 8))\n",
    "sns.heatmap(df[[\"TripDuration\", \"TripDistance\", \"FareAmount\", \"TipAmount\", \"TotalAmount\"]].corr(), \n",
    "            annot=True, cmap=\"coolwarm\", fmt=\".2f\")\n",
    "plt.title(\"Correlation Heatmap\")\n",
    "plt.show()\n"
   ]
  },
  {
   "cell_type": "markdown",
   "metadata": {},
   "source": [
    "## **Conclusion**\n",
    "**The dataset is fundamentally suitable for modeling.**\n",
    "\n",
    "- The dataset contains **time, location, revenue, and trip-related features**, making it viable for **XGBoost-based expected revenue prediction**.\n",
    "- It includes **pickup and dropoff locations, movement patterns, and revenue data**, which can be used to compute **MDP state transition probabilities and reward functions**.\n"
   ]
  },
  {
   "cell_type": "markdown",
   "metadata": {},
   "source": [
    "## Further exploration"
   ]
  },
  {
   "cell_type": "code",
   "execution_count": null,
   "metadata": {
    "ExecuteTime": {
     "end_time": "2025-03-19T14:05:24.459662Z",
     "start_time": "2025-03-19T14:05:17.134763Z"
    }
   },
   "outputs": [],
   "source": [
    "import numpy as np\n",
    "\n",
    "# Define long-distance trips\n",
    "df['trip_type'] = np.where(df['TripDistance'] > 10, 'Long Trip', 'Short Trip')\n",
    "\n",
    "# Compute percentage of long trips per zone\n",
    "long_trip_ratio = df.groupby('PULocationID')['trip_type'].value_counts(normalize=True).unstack().fillna(0)\n",
    "\n",
    "# Sort by long trip percentage\n",
    "long_trip_ratio = long_trip_ratio.sort_values(by='Long Trip', ascending=False)\n",
    "\n",
    "# Plot top zones with the highest long-trip ratio\n",
    "plt.figure(figsize=(12, 6))\n",
    "sns.barplot(x=long_trip_ratio.index[:20], y=long_trip_ratio['Long Trip'][:20], palette=\"coolwarm\")\n",
    "plt.xlabel(\"Pickup Zone (PULocationID)\")\n",
    "plt.ylabel(\"Percentage of Long Trips\")\n",
    "plt.title(\"Top Zones with the Highest Long-Trip Ratio\")\n",
    "plt.xticks(rotation=90)\n",
    "plt.show()\n"
   ]
  },
  {
   "cell_type": "code",
   "execution_count": null,
   "metadata": {
    "ExecuteTime": {
     "end_time": "2025-03-19T14:06:44.098421Z",
     "start_time": "2025-03-19T14:06:42.134643Z"
    }
   },
   "outputs": [],
   "source": [
    "# Compare revenue per trip for short and long trips\n",
    "revenue_comparison = df.groupby('trip_type')['TotalAmount'].mean().reset_index()\n",
    "\n",
    "# Plot comparison\n",
    "plt.figure(figsize=(8, 5))\n",
    "sns.barplot(data=revenue_comparison, x='trip_type', y='TotalAmount', palette=\"muted\")\n",
    "plt.xlabel(\"Trip Type\")\n",
    "plt.ylabel(\"Average Revenue ($)\")\n",
    "plt.title(\"Short Trips vs. Long Trips: Revenue Comparison\")\n",
    "plt.show()\n"
   ]
  },
  {
   "cell_type": "code",
   "execution_count": null,
   "metadata": {},
   "outputs": [],
   "source": []
  }
 ],
 "metadata": {
  "kernelspec": {
   "display_name": "Python 3",
   "language": "python",
   "name": "python3"
  },
  "language_info": {
   "codemirror_mode": {
    "name": "ipython",
    "version": 3
   },
   "file_extension": ".py",
   "mimetype": "text/x-python",
   "name": "python",
   "nbconvert_exporter": "python",
   "pygments_lexer": "ipython3",
   "version": "3.12.0"
  }
 },
 "nbformat": 4,
 "nbformat_minor": 2
}
