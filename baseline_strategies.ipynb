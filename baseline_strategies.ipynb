{
 "cells": [
  {
   "cell_type": "code",
   "execution_count": 1,
   "id": "2092f11157b06206",
   "metadata": {
    "ExecuteTime": {
     "end_time": "2025-04-03T15:11:59.345504Z",
     "start_time": "2025-04-03T15:11:57.758170Z"
    }
   },
   "outputs": [],
   "source": [
    "from DOPU_given_timerange import get_combined_cleaned_one_month_df\n",
    "\n",
    "get_combined_cleaned_one_month_df()"
   ]
  },
  {
   "cell_type": "code",
   "execution_count": 23,
   "id": "initial_id",
   "metadata": {
    "ExecuteTime": {
     "end_time": "2025-04-03T20:24:11.499033Z",
     "start_time": "2025-04-03T20:23:55.440549Z"
    }
   },
   "outputs": [
    {
     "name": "stdout",
     "output_type": "stream",
     "text": [
      "Original dropoff zones: ['233', '75', '20', '263', '238', '163', '141', '239', '141', '61']\n",
      "Stay strategy decisions:  ['233', '75', '20', '263', '238', '163', '141', '239', '141', '61']\n",
      "Random strategy decisions: ['161', '263', '60', '262', '24', '230', '236', '143', '140', '225']\n"
     ]
    }
   ],
   "source": [
    "import pandas as pd\n",
    "import json\n",
    "import random\n",
    "\n",
    "# === Load the zone_neighbors.json file ===\n",
    "with open(\"zone_neighbors.json\", \"r\") as f:\n",
    "    ZONE_NEIGHBORS = json.load(f)\n",
    "\n",
    "# === Load a sample of real dropoff zones from the Parquet file ===\n",
    "df = pd.read_parquet('./data_test/yellow_tripdata_2024-01.parquet', columns=[\"DOLocationID\"])\n",
    "df = df.dropna(subset=[\"DOLocationID\"])\n",
    "df[\"DOLocationID\"] = df[\"DOLocationID\"].astype(str)\n",
    "\n",
    "# Sample 10 dropoff zones to test on\n",
    "sample_dropoffs = df[\"DOLocationID\"].sample(10, random_state=42).tolist()\n",
    "\n",
    "\n",
    "# === Define the Stay Strategy ===\n",
    "def stay_strategy(state):\n",
    "    \"\"\"\n",
    "    Stay in the same zone (i.e., don't move).\n",
    "    \"\"\"\n",
    "    return str(state)\n",
    "\n",
    "\n",
    "# === Define the Random Strategy ===\n",
    "def random_strategy(state):\n",
    "    \"\"\"\n",
    "    Move to a random neighboring zone.\n",
    "    If there are no neighbors, stay in place.\n",
    "    \"\"\"\n",
    "    neighbors = ZONE_NEIGHBORS.get(str(state), [])\n",
    "    if not neighbors:\n",
    "        return str(state)\n",
    "    return random.choice(neighbors)\n",
    "\n",
    "\n",
    "# === Apply strategies to the sample data ===\n",
    "stay_results = [stay_strategy(zone) for zone in sample_dropoffs]\n",
    "random_results = [random_strategy(zone) for zone in sample_dropoffs]\n",
    "\n",
    "# === Print out what happened ===\n",
    "print(\"Original dropoff zones:\", sample_dropoffs)\n",
    "print(\"Stay strategy decisions: \", stay_results)\n",
    "print(\"Random strategy decisions:\", random_results)\n"
   ]
  }
 ],
 "metadata": {
  "kernelspec": {
   "display_name": "Python 3 (ipykernel)",
   "language": "python",
   "name": "python3"
  },
  "language_info": {
   "codemirror_mode": {
    "name": "ipython",
    "version": 3
   },
   "file_extension": ".py",
   "mimetype": "text/x-python",
   "name": "python",
   "nbconvert_exporter": "python",
   "pygments_lexer": "ipython3",
   "version": "3.12.7"
  }
 },
 "nbformat": 4,
 "nbformat_minor": 5
}
