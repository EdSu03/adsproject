{
 "cells": [
  {
   "cell_type": "code",
   "execution_count": 87,
   "id": "523fba6d-daa0-4664-9cd8-9fd6ee610ba5",
   "metadata": {
    "tags": []
   },
   "outputs": [],
   "source": [
    "import os\n",
    "import pandas as pd\n",
    "from datetime import datetime, time"
   ]
  },
  {
   "cell_type": "code",
   "execution_count": 49,
   "id": "b0bc6b66-220e-4516-86fb-0717ff85138c",
   "metadata": {
    "tags": []
   },
   "outputs": [],
   "source": [
    "#Run this cell to get ONE parquet file of ALL cleaned data stored in the folder all_cleaned_data.\n",
    "\n",
    "def get_cleaned_df():\n",
    "    folder_path = \"cleaned_data/\"\n",
    "    \n",
    "    os.makedirs(\"all_cleaned_data\", exist_ok=True)\n",
    "    \n",
    "    # Get all parquet files in the folder\n",
    "    parquet_files = [f for f in os.listdir(folder_path) if f.endswith('.parquet')]\n",
    "    \n",
    "    # Load and concatenate them into a single DataFrame\n",
    "    dataframes = [pd.read_parquet(os.path.join(folder_path, file)) for file in parquet_files]\n",
    "    \n",
    "    # Combine all dataframes\n",
    "    df = pd.concat(dataframes, ignore_index=True) if dataframes else pd.DataFrame()\n",
    "    \n",
    "    df.to_parquet(\"all_cleaned_data/all_cleaned_data.parquet\", index=False)\n",
    "\n",
    "get_cleaned_df()"
   ]
  },
  {
   "cell_type": "code",
   "execution_count": 3,
   "id": "247a183e-aa01-4528-91c5-991575230bdf",
   "metadata": {
    "tags": []
   },
   "outputs": [],
   "source": [
    "#return all cleaned data file as a dataframe\n",
    "df = pd.read_parquet(\"all_cleaned_data/all_cleaned_data.parquet\")"
   ]
  },
  {
   "cell_type": "code",
   "execution_count": 65,
   "id": "6a4abbb2-b669-4287-8480-3c1c595092d5",
   "metadata": {
    "tags": []
   },
   "outputs": [],
   "source": [
    "def DOPU_given_timerange(df, zone, start, end, isDropoff=True):\n",
    "    \"\"\"\n",
    "    input: \n",
    "        df: dataframe to extract number of dropoffs from\n",
    "        zone: integer zone id\n",
    "        start: time of start (pandas time object)\n",
    "        end: time of end (pandas time object)\n",
    "        isDropoff: bool. If true, \n",
    "        \n",
    "    returns:\n",
    "        integer- average number of dropoffs/pickups made in the zone during the time range\n",
    "    \"\"\"\n",
    "    \n",
    "    \n",
    "    #given a zone id, a start time, and end time, find the average number of dropoffs/pickups made during this time\n",
    "    df_zone = df[df[\"DOLocationID\"] == zone].copy() if isDropoff else df[df[\"PULocationID\"] == zone].copy()\n",
    "    \n",
    "    #remove date from datetime object\n",
    "    df_zone[\"time\"] = df_zone[\"dropoff_datetime\"].dt.time if isDropoff else df_zone[\"pickup_datetime\"].dt.time\n",
    "    \n",
    "    #filter by times within the given time range\n",
    "    df_filtered = df_zone[(df_zone[\"time\"] >= start) & (df_zone[\"time\"] <= end)]\n",
    "    \n",
    "    #sum all dropoff/pickups\n",
    "    dropoffs_per_day = df_filtered.groupby(df_filtered[\"dropoff_datetime\"].dt.date).size()\n",
    "    \n",
    "    #return mean dropoffs/pickups\n",
    "    return int(dropoffs_per_day.mean()) if not dropoffs_per_day.empty else 0\n",
    "\n"
   ]
  },
  {
   "cell_type": "code",
   "execution_count": 62,
   "id": "c3c4310e-d093-4a92-9fe1-2eeeebeac0f3",
   "metadata": {
    "tags": []
   },
   "outputs": [],
   "source": [
    "def DOPU_given_one_timerange(df, zone, time, timerange, isDropoff=True):\n",
    "    \"\"\"\n",
    "    input: \n",
    "        df: dataframe to extract number of dropoffs from\n",
    "        zone: integer zone id\n",
    "        time: datetime.time object- the time to check\n",
    "        timerange: pd.Deltatime object- the timerange to check within\n",
    "        isDropoff: bool. If true, returns num of dropoffs. If false, returns num of pickups\n",
    "        \n",
    "    returns:\n",
    "        integer- average number of dropoffs/pickups made in the zone during the time range\n",
    "    \"\"\"\n",
    "    \n",
    "    #given a zone id, a start time, and end time, find the average number of dropoffs/pickups made during this time\n",
    "    df_zone = df[df[\"DOLocationID\"] == zone].copy() if isDropoff else df[df[\"PULocationID\"] == zone].copy()\n",
    "    \n",
    "    ref_date = datetime.combine(datetime.today(), time)\n",
    "    #remove date from datetime object\n",
    "    df_zone[\"time\"] = df_zone[\"dropoff_datetime\"].dt.time if isDropoff else df_zone[\"pickup_datetime\"].dt.time\n",
    "    \n",
    "    start = (ref_date - timerange).time()\n",
    "        \n",
    "    end = (ref_date + timerange).time()\n",
    "    \n",
    "    #filter by times within the given time range\n",
    "\n",
    "    df_filtered = df_zone[(df_zone[\"time\"] >= start) & (df_zone[\"time\"] <= end)] if (start < end) else df_zone[(df_zone[\"time\"] >= start) | (df_zone[\"time\"] <= end)]\n",
    "    \n",
    "    #sum all dropoff/pickups\n",
    "    dropoffs_per_day = df_filtered.groupby(df_filtered[\"dropoff_datetime\"].dt.date).size()\n",
    "    \n",
    "    #return mean dropoffs/pickups\n",
    "    return int(dropoffs_per_day.mean()) if not dropoffs_per_day.empty else 0\n",
    "\n"
   ]
  },
  {
   "cell_type": "code",
   "execution_count": 89,
   "id": "5d063167-e53e-47ae-aa2a-dbf0e71f90d8",
   "metadata": {
    "tags": []
   },
   "outputs": [
    {
     "name": "stdout",
     "output_type": "stream",
     "text": [
      "13\n",
      "13\n"
     ]
    }
   ],
   "source": [
    "#Usage:\n",
    "\n",
    "tim = time(9, 0, 0)\n",
    "timerange = pd.Timedelta(hours=4.0)\n",
    "n = DOPU_given_one_timerange(df, 10, tim, timerange, False)\n",
    "print(n)\n",
    "\n",
    "\n",
    "start = time(5, 0, 0)\n",
    "end = time(13, 0, 0)\n",
    "m = DOPU_given_timerange(df, 10, start, end, False)\n",
    "print(m)"
   ]
  },
  {
   "cell_type": "code",
   "execution_count": null,
   "id": "eb187d49-418a-4474-bebb-bb02905cdf41",
   "metadata": {},
   "outputs": [],
   "source": []
  }
 ],
 "metadata": {
  "kernelspec": {
   "display_name": "Python 3 (ipykernel)",
   "language": "python",
   "name": "python3"
  },
  "language_info": {
   "codemirror_mode": {
    "name": "ipython",
    "version": 3
   },
   "file_extension": ".py",
   "mimetype": "text/x-python",
   "name": "python",
   "nbconvert_exporter": "python",
   "pygments_lexer": "ipython3",
   "version": "3.11.5"
  }
 },
 "nbformat": 4,
 "nbformat_minor": 5
}
