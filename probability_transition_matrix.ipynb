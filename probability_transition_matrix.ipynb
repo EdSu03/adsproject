{
 "cells": [
  {
   "cell_type": "code",
   "execution_count": 29,
   "id": "37579422",
   "metadata": {
    "tags": []
   },
   "outputs": [],
   "source": [
    "import pandas as pd\n",
    "import numpy as np\n",
    "import os\n",
    "from datetime import datetime\n",
    "\n",
    "NUMBER_OF_ZONES = 265"
   ]
  },
  {
   "cell_type": "code",
   "execution_count": null,
   "id": "898c599b-20c4-4947-aeaf-7ab61343df9c",
   "metadata": {
    "tags": []
   },
   "outputs": [],
   "source": [
    "#get distance mat and df\n",
    "intra_zone_matrix = np.load(\"intra_zone_matrix.npy\")\n",
    "df = pd.read_parquet(\"all_cleaned_data/all_cleaned_data.parquet\", engine='fastparquet')\n",
    "df.head()"
   ]
  },
  {
   "cell_type": "code",
   "execution_count": 28,
   "id": "b0c005ff-e7fc-4d57-81ad-677332e17088",
   "metadata": {
    "tags": []
   },
   "outputs": [],
   "source": [
    "#define functions\n",
    "\n",
    "#Find all close zones for each zone\n",
    "def close_zones(intra_zone_matrix):\n",
    "    close_zones = np.empty(266, dtype=object)\n",
    "    for p in range(266):\n",
    "        close_zones[p] = []\n",
    "        for d in range(266):\n",
    "            if intra_zone_matrix[p][d][0] < 15:\n",
    "                close_zones[p].append(d)\n",
    "                \n",
    "    return close_zones\n",
    "         \n",
    "#generate the probability transition matrix\n",
    "def probability_transition_matrix(df, intra_zone_matrix):\n",
    "    \n",
    "    #find all the close zones\n",
    "    close_zones = close_zones(intra_zone_matrix)\n",
    "    \n",
    "    #initialise matrix with shape: (hour of the day, dropoff zone, next likely pickup zone)\n",
    "    ptm = np.zeros((24,266,266))\n",
    "    \n",
    "    #this is only the first 500- if this function seems accurate we can run it on the whole data on a labmachine/desktop \n",
    "    for i, row in df.head(500).iterrows():\n",
    "\n",
    "        #Find the Hour and the Pickup Zone\n",
    "        hour = row[\"PickupDatetime\"].hour\n",
    "        pu_zone = row[\"PULocationID\"]\n",
    "\n",
    "        # For every zone that is close, we +1 in its relevant slot that this pickup was made, thereby increasing its associate demand\n",
    "        # Essentially, we accumulate all the pickups that have been made nearby for each zone in each hour.\n",
    "        for close_zone in close_zones:\n",
    "            ptm[hour, close_zone, pu_zone]+=1\n",
    "\n",
    "    row_sums = ptm.sum(axis=2, keepdims=True)\n",
    "\n",
    "    # normalise but avoid division by zero\n",
    "    ptm = np.divide(ptm, row_sums, where=row_sums != 0)\n",
    "    \n",
    "    #row_sums_check = ptm.sum(axis=2) #Veify for sanity that all add to 1\n",
    "    \n",
    "    # reshape matrix to shape (24 * 266, 266)\n",
    "    ptm = ptm.reshape(-1, matrix.shape[2])\n",
    "    \n",
    "    return ptm\n",
    "\n",
    "\n"
   ]
  },
  {
   "cell_type": "code",
   "execution_count": null,
   "id": "25714823-a4b8-452d-a211-6cb22a61de53",
   "metadata": {},
   "outputs": [],
   "source": [
    "# save matrix\n",
    "filename = \"probability_transition_matrix.npy\"\n",
    "\n",
    "ptm = probability_transition_matrix(df, intra_zone_matrix)\n",
    "np.save(filename, ptm)\n",
    "\n",
    "print(\"Probability Transition Matrix saved at \", filename)"
   ]
  }
 ],
 "metadata": {
  "kernelspec": {
   "display_name": "Python 3 (ipykernel)",
   "language": "python",
   "name": "python3"
  },
  "language_info": {
   "codemirror_mode": {
    "name": "ipython",
    "version": 3
   },
   "file_extension": ".py",
   "mimetype": "text/x-python",
   "name": "python",
   "nbconvert_exporter": "python",
   "pygments_lexer": "ipython3",
   "version": "3.11.5"
  }
 },
 "nbformat": 4,
 "nbformat_minor": 5
}
